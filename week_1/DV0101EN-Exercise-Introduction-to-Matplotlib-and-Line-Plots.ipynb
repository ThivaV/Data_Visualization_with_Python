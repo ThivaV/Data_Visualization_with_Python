{
 "cells": [
  {
   "cell_type": "markdown",
   "metadata": {
    "button": false,
    "new_sheet": false,
    "run_control": {
     "read_only": false
    }
   },
   "source": [
    "<center>\n",
    "    <img src=\"https://cf-courses-data.s3.us.cloud-object-storage.appdomain.cloud/IBMDeveloperSkillsNetwork-DV0101EN-SkillsNetwork/labs/Module%201/images/IDSNlogo.png\" width=\"300\" alt=\"cognitiveclass.ai logo\"  />\n",
    "</center>\n",
    "\n",
    "# Data Visualization\n",
    "\n",
    "Estimated time needed: **30** minutes\n",
    "\n",
    "## Objectives\n",
    "\n",
    "After completing this lab you will be able to:\n",
    "\n",
    "*   Create Data Visualization with Python\n",
    "*   Use various Python libraries for visualization\n"
   ]
  },
  {
   "cell_type": "markdown",
   "metadata": {
    "button": false,
    "new_sheet": false,
    "run_control": {
     "read_only": false
    }
   },
   "source": [
    "## Introduction\n",
    "\n",
    "The aim of these labs is to introduce you to data visualization with Python as concrete and as consistent as possible.\n",
    "Speaking of consistency, because there is no *best* data visualization library available for Python - up to creating these labs - we have to introduce different libraries and show their benefits when we are discussing new visualization concepts. Doing so, we hope to make students well-rounded with visualization libraries and concepts so that they are able to judge and decide on the best visualization technique and tool for a given problem *and* audience.\n",
    "\n",
    "Please make sure that you have completed the prerequisites for this course, namely [**Python Basics for Data Science**](https://www.edx.org/course/python-basics-for-data-science-2?utm_medium=Exinfluencer&utm_source=Exinfluencer&utm_content=000026UJ&utm_term=10006555&utm_id=NA-SkillsNetwork-Channel-SkillsNetworkCoursesIBMDeveloperSkillsNetworkDV0101ENSkillsNetwork20297740-2021-01-01) and [**Analyzing Data with Python**](https://www.edx.org/course/data-analysis-with-python?utm_medium=Exinfluencer&utm_source=Exinfluencer&utm_content=000026UJ&utm_term=10006555&utm_id=NA-SkillsNetwork-Channel-SkillsNetworkCoursesIBMDeveloperSkillsNetworkDV0101ENSkillsNetwork20297740-2021-01-01).\n",
    "\n",
    "**Note**: The majority of the plots and visualizations will be generated using data stored in *pandas* dataframes. Therefore, in this lab, we provide a brief crash course on *pandas*. However, if you are interested in learning more about the *pandas* library, detailed description and explanation of how to use it and how to clean, munge, and process data stored in a *pandas* dataframe are provided in our course [**Analyzing Data with Python**](https://www.edx.org/course/data-analysis-with-python?utm_medium=Exinfluencer&utm_source=Exinfluencer&utm_content=000026UJ&utm_term=10006555&utm_id=NA-SkillsNetwork-Channel-SkillsNetworkCoursesIBMDeveloperSkillsNetworkDV0101ENSkillsNetwork20297740-2021-01-01).\n",
    "\n",
    "***\n"
   ]
  },
  {
   "cell_type": "markdown",
   "metadata": {
    "button": false,
    "new_sheet": false,
    "run_control": {
     "read_only": false
    }
   },
   "source": [
    "## Table of Contents\n",
    "\n",
    "<div class=\"alert alert-block alert-info\" style=\"margin-top: 20px\">\n",
    "\n",
    "1. [Exploring Datasets with *pandas*](#0)\n",
    "1.1 [The Dataset: Immigration to Canada from 1980 to 2013](#2)\n",
    "1.2 [*pandas* Basics](#4)\n",
    "1.3 [*pandas* Intermediate: Indexing and Selection](#6)\n",
    "2. [Visualizing Data using Matplotlib](#8)\n",
    "2.1 [Matplotlib: Standard Python Visualization Library](#10)\n",
    "3. [Line Plots](#12)\n",
    "\n",
    "</div>\n"
   ]
  },
  {
   "cell_type": "markdown",
   "metadata": {
    "button": false,
    "new_sheet": false,
    "run_control": {
     "read_only": false
    }
   },
   "source": [
    "# Exploring Datasets with *pandas* <a id=\"0\"></a>\n",
    "\n",
    "*pandas* is an essential data analysis toolkit for Python. From their [website](http://pandas.pydata.org/?utm_medium=Exinfluencer&utm_source=Exinfluencer&utm_content=000026UJ&utm_term=10006555&utm_id=NA-SkillsNetwork-Channel-SkillsNetworkCoursesIBMDeveloperSkillsNetworkDV0101ENSkillsNetwork20297740-2021-01-01):\n",
    "\n",
    "> *pandas* is a Python package providing fast, flexible, and expressive data structures designed to make working with “relational” or “labeled” data both easy and intuitive. It aims to be the fundamental high-level building block for doing practical, **real world** data analysis in Python.\n",
    "\n",
    "The course heavily relies on *pandas* for data wrangling, analysis, and visualization. We encourage you to spend some time and familiarize yourself with the *pandas* API Reference: [http://pandas.pydata.org/pandas-docs/stable/api.html](http://pandas.pydata.org/pandas-docs/stable/api.html?utm_medium=Exinfluencer&utm_source=Exinfluencer&utm_content=000026UJ&utm_term=10006555&utm_id=NA-SkillsNetwork-Channel-SkillsNetworkCoursesIBMDeveloperSkillsNetworkDV0101ENSkillsNetwork20297740-2021-01-01).\n"
   ]
  },
  {
   "cell_type": "markdown",
   "metadata": {
    "button": false,
    "new_sheet": false,
    "run_control": {
     "read_only": false
    }
   },
   "source": [
    "## The Dataset: Immigration to Canada from 1980 to 2013 <a id=\"2\"></a>\n"
   ]
  },
  {
   "cell_type": "markdown",
   "metadata": {
    "button": false,
    "new_sheet": false,
    "run_control": {
     "read_only": false
    }
   },
   "source": [
    "Dataset Source: [International migration flows to and from selected countries - The 2015 revision](http://www.un.org/en/development/desa/population/migration/data/empirical2/migrationflows.shtml?utm_medium=Exinfluencer&utm_source=Exinfluencer&utm_content=000026UJ&utm_term=10006555&utm_id=NA-SkillsNetwork-Channel-SkillsNetworkCoursesIBMDeveloperSkillsNetworkDV0101ENSkillsNetwork20297740-2021-01-01).\n",
    "\n",
    "The dataset contains annual data on the flows of international immigrants as recorded by the countries of destination. The data presents both inflows and outflows according to the place of birth, citizenship or place of previous / next residence both for foreigners and nationals. The current version presents data pertaining to 45 countries.\n",
    "\n",
    "In this lab, we will focus on the Canadian immigration data.\n",
    "\n",
    "![Data Preview](https://cf-courses-data.s3.us.cloud-object-storage.appdomain.cloud/IBMDeveloperSkillsNetwork-DV0101EN-SkillsNetwork/labs/Module%201/images/DataSnapshot.png)\n",
    "\n",
    "The Canada Immigration dataset can be fetched from <a href=\"https://cf-courses-data.s3.us.cloud-object-storage.appdomain.cloud/IBMDeveloperSkillsNetwork-DV0101EN-SkillsNetwork/Data%20Files/Canada.xlsx?utm_medium=Exinfluencer&utm_source=Exinfluencer&utm_content=000026UJ&utm_term=10006555&utm_id=NA-SkillsNetwork-Channel-SkillsNetworkCoursesIBMDeveloperSkillsNetworkDV0101ENSkillsNetwork20297740-2021-01-01\">here</a>.\n",
    "\n",
    "***\n"
   ]
  },
  {
   "cell_type": "markdown",
   "metadata": {
    "button": false,
    "new_sheet": false,
    "run_control": {
     "read_only": false
    }
   },
   "source": [
    "## *pandas* Basics<a id=\"4\"></a>\n"
   ]
  },
  {
   "cell_type": "markdown",
   "metadata": {
    "button": false,
    "new_sheet": false,
    "run_control": {
     "read_only": false
    }
   },
   "source": [
    "The first thing we'll do is import two key data analysis modules: *pandas* and *numpy*.\n"
   ]
  },
  {
   "cell_type": "code",
   "execution_count": 1,
   "metadata": {
    "button": false,
    "new_sheet": false,
    "run_control": {
     "read_only": false
    },
    "scrolled": false
   },
   "outputs": [],
   "source": [
    "import numpy as np  # useful for many scientific computing in Python\n",
    "import pandas as pd # primary data structure library"
   ]
  },
  {
   "cell_type": "markdown",
   "metadata": {
    "button": false,
    "new_sheet": false,
    "run_control": {
     "read_only": false
    }
   },
   "source": [
    "Let's download and import our primary Canadian Immigration dataset using *pandas*'s `read_excel()` method. Normally, before we can do that, we would need to download a module which *pandas* requires reading in Excel files. This module was **openpyxl** (formerlly **xlrd**). For your convenience, we have pre-installed this module, so you would not have to worry about that. Otherwise, you would need to run the following line of code to install the **openpyxl** module:\n",
    "\n",
    "```\n",
    "! pip3 install openpyxl\n",
    "```\n"
   ]
  },
  {
   "cell_type": "markdown",
   "metadata": {
    "button": false,
    "new_sheet": false,
    "run_control": {
     "read_only": false
    }
   },
   "source": [
    "Now we are ready to read in our data.\n"
   ]
  },
  {
   "cell_type": "code",
   "execution_count": 2,
   "metadata": {
    "button": false,
    "new_sheet": false,
    "run_control": {
     "read_only": false
    },
    "scrolled": false
   },
   "outputs": [
    {
     "name": "stdout",
     "output_type": "stream",
     "text": [
      "Data read into a pandas dataframe!\n"
     ]
    }
   ],
   "source": [
    "df_can = pd.read_excel(\n",
    "    'https://cf-courses-data.s3.us.cloud-object-storage.appdomain.cloud/IBMDeveloperSkillsNetwork-DV0101EN-SkillsNetwork/Data%20Files/Canada.xlsx',\n",
    "    sheet_name='Canada by Citizenship',\n",
    "    skiprows=range(20),\n",
    "    skipfooter=2)\n",
    "\n",
    "print('Data read into a pandas dataframe!')"
   ]
  },
  {
   "cell_type": "markdown",
   "metadata": {
    "button": false,
    "new_sheet": false,
    "run_control": {
     "read_only": false
    }
   },
   "source": [
    "Let's view the top 5 rows of the dataset using the `head()` function.\n"
   ]
  },
  {
   "cell_type": "code",
   "execution_count": 3,
   "metadata": {
    "button": false,
    "new_sheet": false,
    "run_control": {
     "read_only": false
    }
   },
   "outputs": [
    {
     "data": {
      "text/plain": "         Type    Coverage          OdName  AREA AreaName   REG  \\\n0  Immigrants  Foreigners     Afghanistan   935     Asia  5501   \n1  Immigrants  Foreigners         Albania   908   Europe   925   \n2  Immigrants  Foreigners         Algeria   903   Africa   912   \n3  Immigrants  Foreigners  American Samoa   909  Oceania   957   \n4  Immigrants  Foreigners         Andorra   908   Europe   925   \n\n           RegName  DEV             DevName  1980  ...  2012  2013  \\\n0    Southern Asia  902  Developing regions    16  ...  2635  2004   \n1  Southern Europe  901   Developed regions     1  ...   620   603   \n2  Northern Africa  902  Developing regions    80  ...  3774  4331   \n3        Polynesia  902  Developing regions     0  ...     0     0   \n4  Southern Europe  901   Developed regions     0  ...     1     1   \n\n   Unnamed: 43  Unnamed: 44  Unnamed: 45  Unnamed: 46  Unnamed: 47  \\\n0          NaN          NaN          NaN          NaN          NaN   \n1          NaN          NaN          NaN          NaN          NaN   \n2          NaN          NaN          NaN          NaN          NaN   \n3          NaN          NaN          NaN          NaN          NaN   \n4          NaN          NaN          NaN          NaN          NaN   \n\n   Unnamed: 48  Unnamed: 49  Unnamed: 50  \n0          NaN          NaN          NaN  \n1          NaN          NaN          NaN  \n2          NaN          NaN          NaN  \n3          NaN          NaN          NaN  \n4          NaN          NaN          NaN  \n\n[5 rows x 51 columns]",
      "text/html": "<div>\n<style scoped>\n    .dataframe tbody tr th:only-of-type {\n        vertical-align: middle;\n    }\n\n    .dataframe tbody tr th {\n        vertical-align: top;\n    }\n\n    .dataframe thead th {\n        text-align: right;\n    }\n</style>\n<table border=\"1\" class=\"dataframe\">\n  <thead>\n    <tr style=\"text-align: right;\">\n      <th></th>\n      <th>Type</th>\n      <th>Coverage</th>\n      <th>OdName</th>\n      <th>AREA</th>\n      <th>AreaName</th>\n      <th>REG</th>\n      <th>RegName</th>\n      <th>DEV</th>\n      <th>DevName</th>\n      <th>1980</th>\n      <th>...</th>\n      <th>2012</th>\n      <th>2013</th>\n      <th>Unnamed: 43</th>\n      <th>Unnamed: 44</th>\n      <th>Unnamed: 45</th>\n      <th>Unnamed: 46</th>\n      <th>Unnamed: 47</th>\n      <th>Unnamed: 48</th>\n      <th>Unnamed: 49</th>\n      <th>Unnamed: 50</th>\n    </tr>\n  </thead>\n  <tbody>\n    <tr>\n      <th>0</th>\n      <td>Immigrants</td>\n      <td>Foreigners</td>\n      <td>Afghanistan</td>\n      <td>935</td>\n      <td>Asia</td>\n      <td>5501</td>\n      <td>Southern Asia</td>\n      <td>902</td>\n      <td>Developing regions</td>\n      <td>16</td>\n      <td>...</td>\n      <td>2635</td>\n      <td>2004</td>\n      <td>NaN</td>\n      <td>NaN</td>\n      <td>NaN</td>\n      <td>NaN</td>\n      <td>NaN</td>\n      <td>NaN</td>\n      <td>NaN</td>\n      <td>NaN</td>\n    </tr>\n    <tr>\n      <th>1</th>\n      <td>Immigrants</td>\n      <td>Foreigners</td>\n      <td>Albania</td>\n      <td>908</td>\n      <td>Europe</td>\n      <td>925</td>\n      <td>Southern Europe</td>\n      <td>901</td>\n      <td>Developed regions</td>\n      <td>1</td>\n      <td>...</td>\n      <td>620</td>\n      <td>603</td>\n      <td>NaN</td>\n      <td>NaN</td>\n      <td>NaN</td>\n      <td>NaN</td>\n      <td>NaN</td>\n      <td>NaN</td>\n      <td>NaN</td>\n      <td>NaN</td>\n    </tr>\n    <tr>\n      <th>2</th>\n      <td>Immigrants</td>\n      <td>Foreigners</td>\n      <td>Algeria</td>\n      <td>903</td>\n      <td>Africa</td>\n      <td>912</td>\n      <td>Northern Africa</td>\n      <td>902</td>\n      <td>Developing regions</td>\n      <td>80</td>\n      <td>...</td>\n      <td>3774</td>\n      <td>4331</td>\n      <td>NaN</td>\n      <td>NaN</td>\n      <td>NaN</td>\n      <td>NaN</td>\n      <td>NaN</td>\n      <td>NaN</td>\n      <td>NaN</td>\n      <td>NaN</td>\n    </tr>\n    <tr>\n      <th>3</th>\n      <td>Immigrants</td>\n      <td>Foreigners</td>\n      <td>American Samoa</td>\n      <td>909</td>\n      <td>Oceania</td>\n      <td>957</td>\n      <td>Polynesia</td>\n      <td>902</td>\n      <td>Developing regions</td>\n      <td>0</td>\n      <td>...</td>\n      <td>0</td>\n      <td>0</td>\n      <td>NaN</td>\n      <td>NaN</td>\n      <td>NaN</td>\n      <td>NaN</td>\n      <td>NaN</td>\n      <td>NaN</td>\n      <td>NaN</td>\n      <td>NaN</td>\n    </tr>\n    <tr>\n      <th>4</th>\n      <td>Immigrants</td>\n      <td>Foreigners</td>\n      <td>Andorra</td>\n      <td>908</td>\n      <td>Europe</td>\n      <td>925</td>\n      <td>Southern Europe</td>\n      <td>901</td>\n      <td>Developed regions</td>\n      <td>0</td>\n      <td>...</td>\n      <td>1</td>\n      <td>1</td>\n      <td>NaN</td>\n      <td>NaN</td>\n      <td>NaN</td>\n      <td>NaN</td>\n      <td>NaN</td>\n      <td>NaN</td>\n      <td>NaN</td>\n      <td>NaN</td>\n    </tr>\n  </tbody>\n</table>\n<p>5 rows × 51 columns</p>\n</div>"
     },
     "execution_count": 3,
     "metadata": {},
     "output_type": "execute_result"
    }
   ],
   "source": [
    "df_can.head()\n",
    "# tip: You can specify the number of rows you'd like to see as follows: df_can.head(10) "
   ]
  },
  {
   "cell_type": "markdown",
   "metadata": {
    "button": false,
    "new_sheet": false,
    "run_control": {
     "read_only": false
    }
   },
   "source": [
    "We can also view the bottom 5 rows of the dataset using the `tail()` function.\n"
   ]
  },
  {
   "cell_type": "code",
   "execution_count": 4,
   "metadata": {
    "button": false,
    "new_sheet": false,
    "run_control": {
     "read_only": false
    }
   },
   "outputs": [
    {
     "data": {
      "text/plain": "           Type    Coverage          OdName  AREA AreaName  REG  \\\n190  Immigrants  Foreigners        Viet Nam   935     Asia  920   \n191  Immigrants  Foreigners  Western Sahara   903   Africa  912   \n192  Immigrants  Foreigners           Yemen   935     Asia  922   \n193  Immigrants  Foreigners          Zambia   903   Africa  910   \n194  Immigrants  Foreigners        Zimbabwe   903   Africa  910   \n\n                RegName  DEV             DevName  1980  ...  2012  2013  \\\n190  South-Eastern Asia  902  Developing regions  1191  ...  1731  2112   \n191     Northern Africa  902  Developing regions     0  ...     0     0   \n192        Western Asia  902  Developing regions     1  ...   174   217   \n193      Eastern Africa  902  Developing regions    11  ...    46    59   \n194      Eastern Africa  902  Developing regions    72  ...   437   407   \n\n     Unnamed: 43  Unnamed: 44  Unnamed: 45  Unnamed: 46  Unnamed: 47  \\\n190          NaN          NaN          NaN          NaN          NaN   \n191          NaN          NaN          NaN          NaN          NaN   \n192          NaN          NaN          NaN          NaN          NaN   \n193          NaN          NaN          NaN          NaN          NaN   \n194          NaN          NaN          NaN          NaN          NaN   \n\n     Unnamed: 48  Unnamed: 49  Unnamed: 50  \n190          NaN          NaN          NaN  \n191          NaN          NaN          NaN  \n192          NaN          NaN          NaN  \n193          NaN          NaN          NaN  \n194          NaN          NaN          NaN  \n\n[5 rows x 51 columns]",
      "text/html": "<div>\n<style scoped>\n    .dataframe tbody tr th:only-of-type {\n        vertical-align: middle;\n    }\n\n    .dataframe tbody tr th {\n        vertical-align: top;\n    }\n\n    .dataframe thead th {\n        text-align: right;\n    }\n</style>\n<table border=\"1\" class=\"dataframe\">\n  <thead>\n    <tr style=\"text-align: right;\">\n      <th></th>\n      <th>Type</th>\n      <th>Coverage</th>\n      <th>OdName</th>\n      <th>AREA</th>\n      <th>AreaName</th>\n      <th>REG</th>\n      <th>RegName</th>\n      <th>DEV</th>\n      <th>DevName</th>\n      <th>1980</th>\n      <th>...</th>\n      <th>2012</th>\n      <th>2013</th>\n      <th>Unnamed: 43</th>\n      <th>Unnamed: 44</th>\n      <th>Unnamed: 45</th>\n      <th>Unnamed: 46</th>\n      <th>Unnamed: 47</th>\n      <th>Unnamed: 48</th>\n      <th>Unnamed: 49</th>\n      <th>Unnamed: 50</th>\n    </tr>\n  </thead>\n  <tbody>\n    <tr>\n      <th>190</th>\n      <td>Immigrants</td>\n      <td>Foreigners</td>\n      <td>Viet Nam</td>\n      <td>935</td>\n      <td>Asia</td>\n      <td>920</td>\n      <td>South-Eastern Asia</td>\n      <td>902</td>\n      <td>Developing regions</td>\n      <td>1191</td>\n      <td>...</td>\n      <td>1731</td>\n      <td>2112</td>\n      <td>NaN</td>\n      <td>NaN</td>\n      <td>NaN</td>\n      <td>NaN</td>\n      <td>NaN</td>\n      <td>NaN</td>\n      <td>NaN</td>\n      <td>NaN</td>\n    </tr>\n    <tr>\n      <th>191</th>\n      <td>Immigrants</td>\n      <td>Foreigners</td>\n      <td>Western Sahara</td>\n      <td>903</td>\n      <td>Africa</td>\n      <td>912</td>\n      <td>Northern Africa</td>\n      <td>902</td>\n      <td>Developing regions</td>\n      <td>0</td>\n      <td>...</td>\n      <td>0</td>\n      <td>0</td>\n      <td>NaN</td>\n      <td>NaN</td>\n      <td>NaN</td>\n      <td>NaN</td>\n      <td>NaN</td>\n      <td>NaN</td>\n      <td>NaN</td>\n      <td>NaN</td>\n    </tr>\n    <tr>\n      <th>192</th>\n      <td>Immigrants</td>\n      <td>Foreigners</td>\n      <td>Yemen</td>\n      <td>935</td>\n      <td>Asia</td>\n      <td>922</td>\n      <td>Western Asia</td>\n      <td>902</td>\n      <td>Developing regions</td>\n      <td>1</td>\n      <td>...</td>\n      <td>174</td>\n      <td>217</td>\n      <td>NaN</td>\n      <td>NaN</td>\n      <td>NaN</td>\n      <td>NaN</td>\n      <td>NaN</td>\n      <td>NaN</td>\n      <td>NaN</td>\n      <td>NaN</td>\n    </tr>\n    <tr>\n      <th>193</th>\n      <td>Immigrants</td>\n      <td>Foreigners</td>\n      <td>Zambia</td>\n      <td>903</td>\n      <td>Africa</td>\n      <td>910</td>\n      <td>Eastern Africa</td>\n      <td>902</td>\n      <td>Developing regions</td>\n      <td>11</td>\n      <td>...</td>\n      <td>46</td>\n      <td>59</td>\n      <td>NaN</td>\n      <td>NaN</td>\n      <td>NaN</td>\n      <td>NaN</td>\n      <td>NaN</td>\n      <td>NaN</td>\n      <td>NaN</td>\n      <td>NaN</td>\n    </tr>\n    <tr>\n      <th>194</th>\n      <td>Immigrants</td>\n      <td>Foreigners</td>\n      <td>Zimbabwe</td>\n      <td>903</td>\n      <td>Africa</td>\n      <td>910</td>\n      <td>Eastern Africa</td>\n      <td>902</td>\n      <td>Developing regions</td>\n      <td>72</td>\n      <td>...</td>\n      <td>437</td>\n      <td>407</td>\n      <td>NaN</td>\n      <td>NaN</td>\n      <td>NaN</td>\n      <td>NaN</td>\n      <td>NaN</td>\n      <td>NaN</td>\n      <td>NaN</td>\n      <td>NaN</td>\n    </tr>\n  </tbody>\n</table>\n<p>5 rows × 51 columns</p>\n</div>"
     },
     "execution_count": 4,
     "metadata": {},
     "output_type": "execute_result"
    }
   ],
   "source": [
    "df_can.tail()"
   ]
  },
  {
   "cell_type": "markdown",
   "metadata": {
    "button": false,
    "new_sheet": false,
    "run_control": {
     "read_only": false
    }
   },
   "source": [
    "When analyzing a dataset, it's always a good idea to start by getting basic information about your dataframe. We can do this by using the `info()` method.\n",
    "\n",
    "This method can be used to get a short summary of the dataframe.\n"
   ]
  },
  {
   "cell_type": "code",
   "execution_count": 5,
   "metadata": {},
   "outputs": [
    {
     "name": "stdout",
     "output_type": "stream",
     "text": [
      "<class 'pandas.core.frame.DataFrame'>\n",
      "RangeIndex: 195 entries, 0 to 194\n",
      "Columns: 51 entries, Type to Unnamed: 50\n",
      "dtypes: float64(8), int64(37), object(6)\n",
      "memory usage: 77.8+ KB\n"
     ]
    }
   ],
   "source": [
    "df_can.info(verbose=False)"
   ]
  },
  {
   "cell_type": "markdown",
   "metadata": {
    "button": false,
    "new_sheet": false,
    "run_control": {
     "read_only": false
    }
   },
   "source": [
    "To get the list of column headers we can call upon the data frame's `columns` instance variable.\n"
   ]
  },
  {
   "cell_type": "code",
   "execution_count": 6,
   "metadata": {
    "button": false,
    "new_sheet": false,
    "run_control": {
     "read_only": false
    },
    "scrolled": false
   },
   "outputs": [
    {
     "data": {
      "text/plain": "Index([       'Type',    'Coverage',      'OdName',        'AREA',\n          'AreaName',         'REG',     'RegName',         'DEV',\n           'DevName',          1980,          1981,          1982,\n                1983,          1984,          1985,          1986,\n                1987,          1988,          1989,          1990,\n                1991,          1992,          1993,          1994,\n                1995,          1996,          1997,          1998,\n                1999,          2000,          2001,          2002,\n                2003,          2004,          2005,          2006,\n                2007,          2008,          2009,          2010,\n                2011,          2012,          2013, 'Unnamed: 43',\n       'Unnamed: 44', 'Unnamed: 45', 'Unnamed: 46', 'Unnamed: 47',\n       'Unnamed: 48', 'Unnamed: 49', 'Unnamed: 50'],\n      dtype='object')"
     },
     "execution_count": 6,
     "metadata": {},
     "output_type": "execute_result"
    }
   ],
   "source": [
    "df_can.columns"
   ]
  },
  {
   "cell_type": "markdown",
   "metadata": {
    "button": false,
    "new_sheet": false,
    "run_control": {
     "read_only": false
    }
   },
   "source": [
    "Similarly, to get the list of indices we use the `.index` instance variables.\n"
   ]
  },
  {
   "cell_type": "code",
   "execution_count": 7,
   "metadata": {
    "button": false,
    "new_sheet": false,
    "run_control": {
     "read_only": false
    },
    "scrolled": true
   },
   "outputs": [
    {
     "data": {
      "text/plain": "RangeIndex(start=0, stop=195, step=1)"
     },
     "execution_count": 7,
     "metadata": {},
     "output_type": "execute_result"
    }
   ],
   "source": [
    "df_can.index"
   ]
  },
  {
   "cell_type": "markdown",
   "metadata": {
    "button": false,
    "new_sheet": false,
    "run_control": {
     "read_only": false
    }
   },
   "source": [
    "Note: The default type of intance variables `index` and `columns` are **NOT** `list`.\n"
   ]
  },
  {
   "cell_type": "code",
   "execution_count": 8,
   "metadata": {
    "button": false,
    "new_sheet": false,
    "run_control": {
     "read_only": false
    },
    "scrolled": false
   },
   "outputs": [
    {
     "name": "stdout",
     "output_type": "stream",
     "text": [
      "<class 'pandas.core.indexes.base.Index'>\n",
      "<class 'pandas.core.indexes.range.RangeIndex'>\n"
     ]
    }
   ],
   "source": [
    "print(type(df_can.columns))\n",
    "print(type(df_can.index))"
   ]
  },
  {
   "cell_type": "markdown",
   "metadata": {
    "button": false,
    "new_sheet": false,
    "run_control": {
     "read_only": false
    }
   },
   "source": [
    "To get the index and columns as lists, we can use the `tolist()` method.\n"
   ]
  },
  {
   "cell_type": "code",
   "execution_count": 9,
   "outputs": [
    {
     "data": {
      "text/plain": "['Type',\n 'Coverage',\n 'OdName',\n 'AREA',\n 'AreaName',\n 'REG',\n 'RegName',\n 'DEV',\n 'DevName',\n 1980,\n 1981,\n 1982,\n 1983,\n 1984,\n 1985,\n 1986,\n 1987,\n 1988,\n 1989,\n 1990,\n 1991,\n 1992,\n 1993,\n 1994,\n 1995,\n 1996,\n 1997,\n 1998,\n 1999,\n 2000,\n 2001,\n 2002,\n 2003,\n 2004,\n 2005,\n 2006,\n 2007,\n 2008,\n 2009,\n 2010,\n 2011,\n 2012,\n 2013,\n 'Unnamed: 43',\n 'Unnamed: 44',\n 'Unnamed: 45',\n 'Unnamed: 46',\n 'Unnamed: 47',\n 'Unnamed: 48',\n 'Unnamed: 49',\n 'Unnamed: 50']"
     },
     "execution_count": 9,
     "metadata": {},
     "output_type": "execute_result"
    }
   ],
   "source": [
    "df_can.columns.tolist()"
   ],
   "metadata": {
    "collapsed": false,
    "pycharm": {
     "name": "#%%\n"
    }
   }
  },
  {
   "cell_type": "code",
   "execution_count": 10,
   "outputs": [
    {
     "data": {
      "text/plain": "[0,\n 1,\n 2,\n 3,\n 4,\n 5,\n 6,\n 7,\n 8,\n 9,\n 10,\n 11,\n 12,\n 13,\n 14,\n 15,\n 16,\n 17,\n 18,\n 19,\n 20,\n 21,\n 22,\n 23,\n 24,\n 25,\n 26,\n 27,\n 28,\n 29,\n 30,\n 31,\n 32,\n 33,\n 34,\n 35,\n 36,\n 37,\n 38,\n 39,\n 40,\n 41,\n 42,\n 43,\n 44,\n 45,\n 46,\n 47,\n 48,\n 49,\n 50,\n 51,\n 52,\n 53,\n 54,\n 55,\n 56,\n 57,\n 58,\n 59,\n 60,\n 61,\n 62,\n 63,\n 64,\n 65,\n 66,\n 67,\n 68,\n 69,\n 70,\n 71,\n 72,\n 73,\n 74,\n 75,\n 76,\n 77,\n 78,\n 79,\n 80,\n 81,\n 82,\n 83,\n 84,\n 85,\n 86,\n 87,\n 88,\n 89,\n 90,\n 91,\n 92,\n 93,\n 94,\n 95,\n 96,\n 97,\n 98,\n 99,\n 100,\n 101,\n 102,\n 103,\n 104,\n 105,\n 106,\n 107,\n 108,\n 109,\n 110,\n 111,\n 112,\n 113,\n 114,\n 115,\n 116,\n 117,\n 118,\n 119,\n 120,\n 121,\n 122,\n 123,\n 124,\n 125,\n 126,\n 127,\n 128,\n 129,\n 130,\n 131,\n 132,\n 133,\n 134,\n 135,\n 136,\n 137,\n 138,\n 139,\n 140,\n 141,\n 142,\n 143,\n 144,\n 145,\n 146,\n 147,\n 148,\n 149,\n 150,\n 151,\n 152,\n 153,\n 154,\n 155,\n 156,\n 157,\n 158,\n 159,\n 160,\n 161,\n 162,\n 163,\n 164,\n 165,\n 166,\n 167,\n 168,\n 169,\n 170,\n 171,\n 172,\n 173,\n 174,\n 175,\n 176,\n 177,\n 178,\n 179,\n 180,\n 181,\n 182,\n 183,\n 184,\n 185,\n 186,\n 187,\n 188,\n 189,\n 190,\n 191,\n 192,\n 193,\n 194]"
     },
     "execution_count": 10,
     "metadata": {},
     "output_type": "execute_result"
    }
   ],
   "source": [
    "df_can.index.tolist()"
   ],
   "metadata": {
    "collapsed": false,
    "pycharm": {
     "name": "#%%\n"
    }
   }
  },
  {
   "cell_type": "code",
   "execution_count": 11,
   "metadata": {
    "button": false,
    "new_sheet": false,
    "run_control": {
     "read_only": false
    },
    "scrolled": false
   },
   "outputs": [
    {
     "name": "stdout",
     "output_type": "stream",
     "text": [
      "<class 'list'>\n",
      "<class 'list'>\n"
     ]
    }
   ],
   "source": [
    "print(type(df_can.columns.tolist()))\n",
    "print(type(df_can.index.tolist()))"
   ]
  },
  {
   "cell_type": "markdown",
   "metadata": {
    "button": false,
    "new_sheet": false,
    "run_control": {
     "read_only": false
    }
   },
   "source": [
    "To view the dimensions of the dataframe, we use the `shape` instance variable of it.\n"
   ]
  },
  {
   "cell_type": "code",
   "execution_count": 12,
   "metadata": {
    "button": false,
    "new_sheet": false,
    "run_control": {
     "read_only": false
    },
    "scrolled": false
   },
   "outputs": [
    {
     "data": {
      "text/plain": "(195, 51)"
     },
     "execution_count": 12,
     "metadata": {},
     "output_type": "execute_result"
    }
   ],
   "source": [
    "# size of dataframe (rows, columns)\n",
    "df_can.shape    "
   ]
  },
  {
   "cell_type": "markdown",
   "metadata": {
    "button": false,
    "new_sheet": false,
    "run_control": {
     "read_only": false
    }
   },
   "source": [
    "**Note**: The main types stored in *pandas* objects are `float`, `int`, `bool`, `datetime64[ns]`, `datetime64[ns, tz]`, `timedelta[ns]`, `category`, and `object` (string). In addition, these dtypes have item sizes, e.g. `int64` and `int32`.\n"
   ]
  },
  {
   "cell_type": "markdown",
   "metadata": {
    "button": false,
    "new_sheet": false,
    "run_control": {
     "read_only": false
    }
   },
   "source": [
    "Let's clean the data set to remove a few unnecessary columns. We can use *pandas* `drop()` method as follows:\n"
   ]
  },
  {
   "cell_type": "code",
   "execution_count": 13,
   "metadata": {
    "button": false,
    "new_sheet": false,
    "run_control": {
     "read_only": false
    },
    "scrolled": false
   },
   "outputs": [
    {
     "data": {
      "text/plain": "        OdName AreaName          RegName             DevName  1980  1981  \\\n0  Afghanistan     Asia    Southern Asia  Developing regions    16    39   \n1      Albania   Europe  Southern Europe   Developed regions     1     0   \n\n   1982  1983  1984  1985  ...  2012  2013  Unnamed: 43  Unnamed: 44  \\\n0    39    47    71   340  ...  2635  2004          NaN          NaN   \n1     0     0     0     0  ...   620   603          NaN          NaN   \n\n   Unnamed: 45  Unnamed: 46  Unnamed: 47  Unnamed: 48  Unnamed: 49  \\\n0          NaN          NaN          NaN          NaN          NaN   \n1          NaN          NaN          NaN          NaN          NaN   \n\n   Unnamed: 50  \n0          NaN  \n1          NaN  \n\n[2 rows x 46 columns]",
      "text/html": "<div>\n<style scoped>\n    .dataframe tbody tr th:only-of-type {\n        vertical-align: middle;\n    }\n\n    .dataframe tbody tr th {\n        vertical-align: top;\n    }\n\n    .dataframe thead th {\n        text-align: right;\n    }\n</style>\n<table border=\"1\" class=\"dataframe\">\n  <thead>\n    <tr style=\"text-align: right;\">\n      <th></th>\n      <th>OdName</th>\n      <th>AreaName</th>\n      <th>RegName</th>\n      <th>DevName</th>\n      <th>1980</th>\n      <th>1981</th>\n      <th>1982</th>\n      <th>1983</th>\n      <th>1984</th>\n      <th>1985</th>\n      <th>...</th>\n      <th>2012</th>\n      <th>2013</th>\n      <th>Unnamed: 43</th>\n      <th>Unnamed: 44</th>\n      <th>Unnamed: 45</th>\n      <th>Unnamed: 46</th>\n      <th>Unnamed: 47</th>\n      <th>Unnamed: 48</th>\n      <th>Unnamed: 49</th>\n      <th>Unnamed: 50</th>\n    </tr>\n  </thead>\n  <tbody>\n    <tr>\n      <th>0</th>\n      <td>Afghanistan</td>\n      <td>Asia</td>\n      <td>Southern Asia</td>\n      <td>Developing regions</td>\n      <td>16</td>\n      <td>39</td>\n      <td>39</td>\n      <td>47</td>\n      <td>71</td>\n      <td>340</td>\n      <td>...</td>\n      <td>2635</td>\n      <td>2004</td>\n      <td>NaN</td>\n      <td>NaN</td>\n      <td>NaN</td>\n      <td>NaN</td>\n      <td>NaN</td>\n      <td>NaN</td>\n      <td>NaN</td>\n      <td>NaN</td>\n    </tr>\n    <tr>\n      <th>1</th>\n      <td>Albania</td>\n      <td>Europe</td>\n      <td>Southern Europe</td>\n      <td>Developed regions</td>\n      <td>1</td>\n      <td>0</td>\n      <td>0</td>\n      <td>0</td>\n      <td>0</td>\n      <td>0</td>\n      <td>...</td>\n      <td>620</td>\n      <td>603</td>\n      <td>NaN</td>\n      <td>NaN</td>\n      <td>NaN</td>\n      <td>NaN</td>\n      <td>NaN</td>\n      <td>NaN</td>\n      <td>NaN</td>\n      <td>NaN</td>\n    </tr>\n  </tbody>\n</table>\n<p>2 rows × 46 columns</p>\n</div>"
     },
     "execution_count": 13,
     "metadata": {},
     "output_type": "execute_result"
    }
   ],
   "source": [
    "# in pandas axis=0 represents rows (default) and axis=1 represents columns.\n",
    "df_can.drop(['AREA','REG','DEV','Type','Coverage'], axis=1, inplace=True)\n",
    "df_can.head(2)"
   ]
  },
  {
   "cell_type": "markdown",
   "metadata": {
    "button": false,
    "new_sheet": false,
    "run_control": {
     "read_only": false
    }
   },
   "source": [
    "Let's rename the columns so that they make sense. We can use `rename()` method by passing in a dictionary of old and new names as follows:\n"
   ]
  },
  {
   "cell_type": "code",
   "execution_count": 14,
   "metadata": {
    "button": false,
    "new_sheet": false,
    "run_control": {
     "read_only": false
    },
    "scrolled": false
   },
   "outputs": [
    {
     "data": {
      "text/plain": "Index([    'Country',   'Continent',      'Region',     'DevName',\n                1980,          1981,          1982,          1983,\n                1984,          1985,          1986,          1987,\n                1988,          1989,          1990,          1991,\n                1992,          1993,          1994,          1995,\n                1996,          1997,          1998,          1999,\n                2000,          2001,          2002,          2003,\n                2004,          2005,          2006,          2007,\n                2008,          2009,          2010,          2011,\n                2012,          2013, 'Unnamed: 43', 'Unnamed: 44',\n       'Unnamed: 45', 'Unnamed: 46', 'Unnamed: 47', 'Unnamed: 48',\n       'Unnamed: 49', 'Unnamed: 50'],\n      dtype='object')"
     },
     "execution_count": 14,
     "metadata": {},
     "output_type": "execute_result"
    }
   ],
   "source": [
    "df_can.rename(columns={'OdName':'Country', 'AreaName':'Continent', 'RegName':'Region'}, inplace=True)\n",
    "df_can.columns"
   ]
  },
  {
   "cell_type": "markdown",
   "metadata": {
    "button": false,
    "new_sheet": false,
    "run_control": {
     "read_only": false
    }
   },
   "source": [
    "We will also add a 'Total' column that sums up the total immigrants by country over the entire period 1980 - 2013, as follows:\n"
   ]
  },
  {
   "cell_type": "code",
   "execution_count": 15,
   "metadata": {
    "button": false,
    "new_sheet": false,
    "run_control": {
     "read_only": false
    },
    "scrolled": false
   },
   "outputs": [],
   "source": [
    "df_can['Total'] = df_can.sum(axis=1)"
   ]
  },
  {
   "cell_type": "markdown",
   "metadata": {
    "button": false,
    "new_sheet": false,
    "run_control": {
     "read_only": false
    }
   },
   "source": [
    "We can check to see how many null objects we have in the dataset as follows:\n"
   ]
  },
  {
   "cell_type": "code",
   "execution_count": 16,
   "metadata": {
    "button": false,
    "new_sheet": false,
    "run_control": {
     "read_only": false
    },
    "scrolled": true
   },
   "outputs": [
    {
     "data": {
      "text/plain": "Country          0\nContinent        0\nRegion           0\nDevName          0\n1980             0\n1981             0\n1982             0\n1983             0\n1984             0\n1985             0\n1986             0\n1987             0\n1988             0\n1989             0\n1990             0\n1991             0\n1992             0\n1993             0\n1994             0\n1995             0\n1996             0\n1997             0\n1998             0\n1999             0\n2000             0\n2001             0\n2002             0\n2003             0\n2004             0\n2005             0\n2006             0\n2007             0\n2008             0\n2009             0\n2010             0\n2011             0\n2012             0\n2013             0\nUnnamed: 43    195\nUnnamed: 44    195\nUnnamed: 45    195\nUnnamed: 46    195\nUnnamed: 47    195\nUnnamed: 48    195\nUnnamed: 49    195\nUnnamed: 50    195\nTotal            0\ndtype: int64"
     },
     "execution_count": 16,
     "metadata": {},
     "output_type": "execute_result"
    }
   ],
   "source": [
    "df_can.isnull().sum()"
   ]
  },
  {
   "cell_type": "markdown",
   "metadata": {
    "button": false,
    "new_sheet": false,
    "run_control": {
     "read_only": false
    }
   },
   "source": [
    "Finally, let's view a quick summary of each column in our dataframe using the `describe()` method.\n"
   ]
  },
  {
   "cell_type": "code",
   "execution_count": 17,
   "metadata": {
    "button": false,
    "new_sheet": false,
    "run_control": {
     "read_only": false
    },
    "scrolled": false
   },
   "outputs": [
    {
     "data": {
      "text/plain": "               1980          1981          1982          1983          1984  \\\ncount    195.000000    195.000000    195.000000    195.000000    195.000000   \nmean     508.394872    566.989744    534.723077    387.435897    376.497436   \nstd     1949.588546   2152.643752   1866.997511   1204.333597   1198.246371   \nmin        0.000000      0.000000      0.000000      0.000000      0.000000   \n25%        0.000000      0.000000      0.000000      0.000000      0.000000   \n50%       13.000000     10.000000     11.000000     12.000000     13.000000   \n75%      251.500000    295.500000    275.000000    173.000000    181.000000   \nmax    22045.000000  24796.000000  20620.000000  10015.000000  10170.000000   \n\n              1985         1986          1987          1988          1989  \\\ncount   195.000000   195.000000    195.000000    195.000000    195.000000   \nmean    358.861538   441.271795    691.133333    714.389744    843.241026   \nstd    1079.309600  1225.576630   2109.205607   2443.606788   2555.048874   \nmin       0.000000     0.000000      0.000000      0.000000      0.000000   \n25%       0.000000     0.500000      0.500000      1.000000      1.000000   \n50%      17.000000    18.000000     26.000000     34.000000     44.000000   \n75%     197.000000   254.000000    434.000000    409.000000    508.500000   \nmax    9564.000000  9470.000000  21337.000000  27359.000000  23795.000000   \n\n       ...          2013  Unnamed: 43  Unnamed: 44  Unnamed: 45  Unnamed: 46  \\\ncount  ...    195.000000          0.0          0.0          0.0          0.0   \nmean   ...   1320.702564          NaN          NaN          NaN          NaN   \nstd    ...   4237.951988          NaN          NaN          NaN          NaN   \nmin    ...      0.000000          NaN          NaN          NaN          NaN   \n25%    ...     45.000000          NaN          NaN          NaN          NaN   \n50%    ...    213.000000          NaN          NaN          NaN          NaN   \n75%    ...    796.000000          NaN          NaN          NaN          NaN   \nmax    ...  34129.000000          NaN          NaN          NaN          NaN   \n\n       Unnamed: 47  Unnamed: 48  Unnamed: 49  Unnamed: 50          Total  \ncount          0.0          0.0          0.0          0.0     195.000000  \nmean           NaN          NaN          NaN          NaN   32867.451282  \nstd            NaN          NaN          NaN          NaN   91785.498686  \nmin            NaN          NaN          NaN          NaN       1.000000  \n25%            NaN          NaN          NaN          NaN     952.000000  \n50%            NaN          NaN          NaN          NaN    5018.000000  \n75%            NaN          NaN          NaN          NaN   22239.500000  \nmax            NaN          NaN          NaN          NaN  691904.000000  \n\n[8 rows x 43 columns]",
      "text/html": "<div>\n<style scoped>\n    .dataframe tbody tr th:only-of-type {\n        vertical-align: middle;\n    }\n\n    .dataframe tbody tr th {\n        vertical-align: top;\n    }\n\n    .dataframe thead th {\n        text-align: right;\n    }\n</style>\n<table border=\"1\" class=\"dataframe\">\n  <thead>\n    <tr style=\"text-align: right;\">\n      <th></th>\n      <th>1980</th>\n      <th>1981</th>\n      <th>1982</th>\n      <th>1983</th>\n      <th>1984</th>\n      <th>1985</th>\n      <th>1986</th>\n      <th>1987</th>\n      <th>1988</th>\n      <th>1989</th>\n      <th>...</th>\n      <th>2013</th>\n      <th>Unnamed: 43</th>\n      <th>Unnamed: 44</th>\n      <th>Unnamed: 45</th>\n      <th>Unnamed: 46</th>\n      <th>Unnamed: 47</th>\n      <th>Unnamed: 48</th>\n      <th>Unnamed: 49</th>\n      <th>Unnamed: 50</th>\n      <th>Total</th>\n    </tr>\n  </thead>\n  <tbody>\n    <tr>\n      <th>count</th>\n      <td>195.000000</td>\n      <td>195.000000</td>\n      <td>195.000000</td>\n      <td>195.000000</td>\n      <td>195.000000</td>\n      <td>195.000000</td>\n      <td>195.000000</td>\n      <td>195.000000</td>\n      <td>195.000000</td>\n      <td>195.000000</td>\n      <td>...</td>\n      <td>195.000000</td>\n      <td>0.0</td>\n      <td>0.0</td>\n      <td>0.0</td>\n      <td>0.0</td>\n      <td>0.0</td>\n      <td>0.0</td>\n      <td>0.0</td>\n      <td>0.0</td>\n      <td>195.000000</td>\n    </tr>\n    <tr>\n      <th>mean</th>\n      <td>508.394872</td>\n      <td>566.989744</td>\n      <td>534.723077</td>\n      <td>387.435897</td>\n      <td>376.497436</td>\n      <td>358.861538</td>\n      <td>441.271795</td>\n      <td>691.133333</td>\n      <td>714.389744</td>\n      <td>843.241026</td>\n      <td>...</td>\n      <td>1320.702564</td>\n      <td>NaN</td>\n      <td>NaN</td>\n      <td>NaN</td>\n      <td>NaN</td>\n      <td>NaN</td>\n      <td>NaN</td>\n      <td>NaN</td>\n      <td>NaN</td>\n      <td>32867.451282</td>\n    </tr>\n    <tr>\n      <th>std</th>\n      <td>1949.588546</td>\n      <td>2152.643752</td>\n      <td>1866.997511</td>\n      <td>1204.333597</td>\n      <td>1198.246371</td>\n      <td>1079.309600</td>\n      <td>1225.576630</td>\n      <td>2109.205607</td>\n      <td>2443.606788</td>\n      <td>2555.048874</td>\n      <td>...</td>\n      <td>4237.951988</td>\n      <td>NaN</td>\n      <td>NaN</td>\n      <td>NaN</td>\n      <td>NaN</td>\n      <td>NaN</td>\n      <td>NaN</td>\n      <td>NaN</td>\n      <td>NaN</td>\n      <td>91785.498686</td>\n    </tr>\n    <tr>\n      <th>min</th>\n      <td>0.000000</td>\n      <td>0.000000</td>\n      <td>0.000000</td>\n      <td>0.000000</td>\n      <td>0.000000</td>\n      <td>0.000000</td>\n      <td>0.000000</td>\n      <td>0.000000</td>\n      <td>0.000000</td>\n      <td>0.000000</td>\n      <td>...</td>\n      <td>0.000000</td>\n      <td>NaN</td>\n      <td>NaN</td>\n      <td>NaN</td>\n      <td>NaN</td>\n      <td>NaN</td>\n      <td>NaN</td>\n      <td>NaN</td>\n      <td>NaN</td>\n      <td>1.000000</td>\n    </tr>\n    <tr>\n      <th>25%</th>\n      <td>0.000000</td>\n      <td>0.000000</td>\n      <td>0.000000</td>\n      <td>0.000000</td>\n      <td>0.000000</td>\n      <td>0.000000</td>\n      <td>0.500000</td>\n      <td>0.500000</td>\n      <td>1.000000</td>\n      <td>1.000000</td>\n      <td>...</td>\n      <td>45.000000</td>\n      <td>NaN</td>\n      <td>NaN</td>\n      <td>NaN</td>\n      <td>NaN</td>\n      <td>NaN</td>\n      <td>NaN</td>\n      <td>NaN</td>\n      <td>NaN</td>\n      <td>952.000000</td>\n    </tr>\n    <tr>\n      <th>50%</th>\n      <td>13.000000</td>\n      <td>10.000000</td>\n      <td>11.000000</td>\n      <td>12.000000</td>\n      <td>13.000000</td>\n      <td>17.000000</td>\n      <td>18.000000</td>\n      <td>26.000000</td>\n      <td>34.000000</td>\n      <td>44.000000</td>\n      <td>...</td>\n      <td>213.000000</td>\n      <td>NaN</td>\n      <td>NaN</td>\n      <td>NaN</td>\n      <td>NaN</td>\n      <td>NaN</td>\n      <td>NaN</td>\n      <td>NaN</td>\n      <td>NaN</td>\n      <td>5018.000000</td>\n    </tr>\n    <tr>\n      <th>75%</th>\n      <td>251.500000</td>\n      <td>295.500000</td>\n      <td>275.000000</td>\n      <td>173.000000</td>\n      <td>181.000000</td>\n      <td>197.000000</td>\n      <td>254.000000</td>\n      <td>434.000000</td>\n      <td>409.000000</td>\n      <td>508.500000</td>\n      <td>...</td>\n      <td>796.000000</td>\n      <td>NaN</td>\n      <td>NaN</td>\n      <td>NaN</td>\n      <td>NaN</td>\n      <td>NaN</td>\n      <td>NaN</td>\n      <td>NaN</td>\n      <td>NaN</td>\n      <td>22239.500000</td>\n    </tr>\n    <tr>\n      <th>max</th>\n      <td>22045.000000</td>\n      <td>24796.000000</td>\n      <td>20620.000000</td>\n      <td>10015.000000</td>\n      <td>10170.000000</td>\n      <td>9564.000000</td>\n      <td>9470.000000</td>\n      <td>21337.000000</td>\n      <td>27359.000000</td>\n      <td>23795.000000</td>\n      <td>...</td>\n      <td>34129.000000</td>\n      <td>NaN</td>\n      <td>NaN</td>\n      <td>NaN</td>\n      <td>NaN</td>\n      <td>NaN</td>\n      <td>NaN</td>\n      <td>NaN</td>\n      <td>NaN</td>\n      <td>691904.000000</td>\n    </tr>\n  </tbody>\n</table>\n<p>8 rows × 43 columns</p>\n</div>"
     },
     "execution_count": 17,
     "metadata": {},
     "output_type": "execute_result"
    }
   ],
   "source": [
    "df_can.describe()"
   ]
  },
  {
   "cell_type": "markdown",
   "metadata": {
    "button": false,
    "new_sheet": false,
    "run_control": {
     "read_only": false
    }
   },
   "source": [
    "***\n",
    "\n",
    "## *pandas* Intermediate: Indexing and Selection (slicing)<a id=\"6\"></a>\n"
   ]
  },
  {
   "cell_type": "markdown",
   "metadata": {
    "button": false,
    "new_sheet": false,
    "run_control": {
     "read_only": false
    }
   },
   "source": [
    "### Select Column\n",
    "\n",
    "**There are two ways to filter on a column name:**\n",
    "\n",
    "Method 1: Quick and easy, but only works if the column name does NOT have spaces or special characters.\n",
    "\n",
    "```python\n",
    "    df.column_name               # returns series\n",
    "```\n",
    "\n",
    "Method 2: More robust, and can filter on multiple columns.\n",
    "\n",
    "```python\n",
    "    df['column']                  # returns series\n",
    "```\n",
    "\n",
    "```python\n",
    "    df[['column 1', 'column 2']]  # returns dataframe\n",
    "```\n",
    "\n",
    "***\n"
   ]
  },
  {
   "cell_type": "markdown",
   "metadata": {
    "button": false,
    "new_sheet": false,
    "run_control": {
     "read_only": false
    }
   },
   "source": [
    "Example: Let's try filtering on the list of countries ('Country').\n"
   ]
  },
  {
   "cell_type": "code",
   "execution_count": 18,
   "metadata": {
    "button": false,
    "new_sheet": false,
    "run_control": {
     "read_only": false
    },
    "scrolled": true
   },
   "outputs": [
    {
     "data": {
      "text/plain": "0         Afghanistan\n1             Albania\n2             Algeria\n3      American Samoa\n4             Andorra\n            ...      \n190          Viet Nam\n191    Western Sahara\n192             Yemen\n193            Zambia\n194          Zimbabwe\nName: Country, Length: 195, dtype: object"
     },
     "execution_count": 18,
     "metadata": {},
     "output_type": "execute_result"
    }
   ],
   "source": [
    "df_can.Country  # returns a series"
   ]
  },
  {
   "cell_type": "markdown",
   "metadata": {
    "button": false,
    "new_sheet": false,
    "run_control": {
     "read_only": false
    }
   },
   "source": [
    "Let's try filtering on the list of countries ('Country') and the data for years: 1980 - 1985.\n"
   ]
  },
  {
   "cell_type": "code",
   "execution_count": 19,
   "metadata": {
    "button": false,
    "new_sheet": false,
    "run_control": {
     "read_only": false
    }
   },
   "outputs": [
    {
     "data": {
      "text/plain": "            Country  1980  1981  1982  1983  1984  1985\n0       Afghanistan    16    39    39    47    71   340\n1           Albania     1     0     0     0     0     0\n2           Algeria    80    67    71    69    63    44\n3    American Samoa     0     1     0     0     0     0\n4           Andorra     0     0     0     0     0     0\n..              ...   ...   ...   ...   ...   ...   ...\n190        Viet Nam  1191  1829  2162  3404  7583  5907\n191  Western Sahara     0     0     0     0     0     0\n192           Yemen     1     2     1     6     0    18\n193          Zambia    11    17    11     7    16     9\n194        Zimbabwe    72   114   102    44    32    29\n\n[195 rows x 7 columns]",
      "text/html": "<div>\n<style scoped>\n    .dataframe tbody tr th:only-of-type {\n        vertical-align: middle;\n    }\n\n    .dataframe tbody tr th {\n        vertical-align: top;\n    }\n\n    .dataframe thead th {\n        text-align: right;\n    }\n</style>\n<table border=\"1\" class=\"dataframe\">\n  <thead>\n    <tr style=\"text-align: right;\">\n      <th></th>\n      <th>Country</th>\n      <th>1980</th>\n      <th>1981</th>\n      <th>1982</th>\n      <th>1983</th>\n      <th>1984</th>\n      <th>1985</th>\n    </tr>\n  </thead>\n  <tbody>\n    <tr>\n      <th>0</th>\n      <td>Afghanistan</td>\n      <td>16</td>\n      <td>39</td>\n      <td>39</td>\n      <td>47</td>\n      <td>71</td>\n      <td>340</td>\n    </tr>\n    <tr>\n      <th>1</th>\n      <td>Albania</td>\n      <td>1</td>\n      <td>0</td>\n      <td>0</td>\n      <td>0</td>\n      <td>0</td>\n      <td>0</td>\n    </tr>\n    <tr>\n      <th>2</th>\n      <td>Algeria</td>\n      <td>80</td>\n      <td>67</td>\n      <td>71</td>\n      <td>69</td>\n      <td>63</td>\n      <td>44</td>\n    </tr>\n    <tr>\n      <th>3</th>\n      <td>American Samoa</td>\n      <td>0</td>\n      <td>1</td>\n      <td>0</td>\n      <td>0</td>\n      <td>0</td>\n      <td>0</td>\n    </tr>\n    <tr>\n      <th>4</th>\n      <td>Andorra</td>\n      <td>0</td>\n      <td>0</td>\n      <td>0</td>\n      <td>0</td>\n      <td>0</td>\n      <td>0</td>\n    </tr>\n    <tr>\n      <th>...</th>\n      <td>...</td>\n      <td>...</td>\n      <td>...</td>\n      <td>...</td>\n      <td>...</td>\n      <td>...</td>\n      <td>...</td>\n    </tr>\n    <tr>\n      <th>190</th>\n      <td>Viet Nam</td>\n      <td>1191</td>\n      <td>1829</td>\n      <td>2162</td>\n      <td>3404</td>\n      <td>7583</td>\n      <td>5907</td>\n    </tr>\n    <tr>\n      <th>191</th>\n      <td>Western Sahara</td>\n      <td>0</td>\n      <td>0</td>\n      <td>0</td>\n      <td>0</td>\n      <td>0</td>\n      <td>0</td>\n    </tr>\n    <tr>\n      <th>192</th>\n      <td>Yemen</td>\n      <td>1</td>\n      <td>2</td>\n      <td>1</td>\n      <td>6</td>\n      <td>0</td>\n      <td>18</td>\n    </tr>\n    <tr>\n      <th>193</th>\n      <td>Zambia</td>\n      <td>11</td>\n      <td>17</td>\n      <td>11</td>\n      <td>7</td>\n      <td>16</td>\n      <td>9</td>\n    </tr>\n    <tr>\n      <th>194</th>\n      <td>Zimbabwe</td>\n      <td>72</td>\n      <td>114</td>\n      <td>102</td>\n      <td>44</td>\n      <td>32</td>\n      <td>29</td>\n    </tr>\n  </tbody>\n</table>\n<p>195 rows × 7 columns</p>\n</div>"
     },
     "execution_count": 19,
     "metadata": {},
     "output_type": "execute_result"
    }
   ],
   "source": [
    "df_can[['Country', 1980, 1981, 1982, 1983, 1984, 1985]] # returns a dataframe\n",
    "# notice that 'Country' is string, and the years are integers. \n",
    "# for the sake of consistency, we will convert all column names to string later on."
   ]
  },
  {
   "cell_type": "markdown",
   "metadata": {
    "button": false,
    "new_sheet": false,
    "run_control": {
     "read_only": false
    }
   },
   "source": [
    "### Select Row\n",
    "\n",
    "There are main 2 ways to select rows:\n",
    "\n",
    "```python\n",
    "    df.loc[label]    # filters by the labels of the index/column\n",
    "    df.iloc[index]   # filters by the positions of the index/column\n",
    "```\n"
   ]
  },
  {
   "cell_type": "markdown",
   "metadata": {
    "button": false,
    "new_sheet": false,
    "run_control": {
     "read_only": false
    }
   },
   "source": [
    "Before we proceed, notice that the default index of the dataset is a numeric range from 0 to 194. This makes it very difficult to do a query by a specific country. For example to search for data on Japan, we need to know the corresponding index value.\n",
    "\n",
    "This can be fixed very easily by setting the 'Country' column as the index using `set_index()` method.\n"
   ]
  },
  {
   "cell_type": "code",
   "execution_count": 20,
   "metadata": {
    "button": false,
    "new_sheet": false,
    "run_control": {
     "read_only": false
    },
    "scrolled": true
   },
   "outputs": [],
   "source": [
    "df_can.set_index('Country', inplace=True)\n",
    "# tip: The opposite of set is reset. So to reset the index, we can use df_can.reset_index()"
   ]
  },
  {
   "cell_type": "code",
   "execution_count": 21,
   "metadata": {
    "button": false,
    "new_sheet": false,
    "run_control": {
     "read_only": false
    },
    "scrolled": false
   },
   "outputs": [
    {
     "data": {
      "text/plain": "            Continent           Region             DevName  1980  1981  1982  \\\nCountry                                                                        \nAfghanistan      Asia    Southern Asia  Developing regions    16    39    39   \nAlbania        Europe  Southern Europe   Developed regions     1     0     0   \nAlgeria        Africa  Northern Africa  Developing regions    80    67    71   \n\n             1983  1984  1985  1986  ...  2013  Unnamed: 43  Unnamed: 44  \\\nCountry                              ...                                   \nAfghanistan    47    71   340   496  ...  2004          NaN          NaN   \nAlbania         0     0     0     1  ...   603          NaN          NaN   \nAlgeria        69    63    44    69  ...  4331          NaN          NaN   \n\n             Unnamed: 45  Unnamed: 46  Unnamed: 47  Unnamed: 48  Unnamed: 49  \\\nCountry                                                                        \nAfghanistan          NaN          NaN          NaN          NaN          NaN   \nAlbania              NaN          NaN          NaN          NaN          NaN   \nAlgeria              NaN          NaN          NaN          NaN          NaN   \n\n             Unnamed: 50    Total  \nCountry                            \nAfghanistan          NaN  58639.0  \nAlbania              NaN  15699.0  \nAlgeria              NaN  69439.0  \n\n[3 rows x 46 columns]",
      "text/html": "<div>\n<style scoped>\n    .dataframe tbody tr th:only-of-type {\n        vertical-align: middle;\n    }\n\n    .dataframe tbody tr th {\n        vertical-align: top;\n    }\n\n    .dataframe thead th {\n        text-align: right;\n    }\n</style>\n<table border=\"1\" class=\"dataframe\">\n  <thead>\n    <tr style=\"text-align: right;\">\n      <th></th>\n      <th>Continent</th>\n      <th>Region</th>\n      <th>DevName</th>\n      <th>1980</th>\n      <th>1981</th>\n      <th>1982</th>\n      <th>1983</th>\n      <th>1984</th>\n      <th>1985</th>\n      <th>1986</th>\n      <th>...</th>\n      <th>2013</th>\n      <th>Unnamed: 43</th>\n      <th>Unnamed: 44</th>\n      <th>Unnamed: 45</th>\n      <th>Unnamed: 46</th>\n      <th>Unnamed: 47</th>\n      <th>Unnamed: 48</th>\n      <th>Unnamed: 49</th>\n      <th>Unnamed: 50</th>\n      <th>Total</th>\n    </tr>\n    <tr>\n      <th>Country</th>\n      <th></th>\n      <th></th>\n      <th></th>\n      <th></th>\n      <th></th>\n      <th></th>\n      <th></th>\n      <th></th>\n      <th></th>\n      <th></th>\n      <th></th>\n      <th></th>\n      <th></th>\n      <th></th>\n      <th></th>\n      <th></th>\n      <th></th>\n      <th></th>\n      <th></th>\n      <th></th>\n      <th></th>\n    </tr>\n  </thead>\n  <tbody>\n    <tr>\n      <th>Afghanistan</th>\n      <td>Asia</td>\n      <td>Southern Asia</td>\n      <td>Developing regions</td>\n      <td>16</td>\n      <td>39</td>\n      <td>39</td>\n      <td>47</td>\n      <td>71</td>\n      <td>340</td>\n      <td>496</td>\n      <td>...</td>\n      <td>2004</td>\n      <td>NaN</td>\n      <td>NaN</td>\n      <td>NaN</td>\n      <td>NaN</td>\n      <td>NaN</td>\n      <td>NaN</td>\n      <td>NaN</td>\n      <td>NaN</td>\n      <td>58639.0</td>\n    </tr>\n    <tr>\n      <th>Albania</th>\n      <td>Europe</td>\n      <td>Southern Europe</td>\n      <td>Developed regions</td>\n      <td>1</td>\n      <td>0</td>\n      <td>0</td>\n      <td>0</td>\n      <td>0</td>\n      <td>0</td>\n      <td>1</td>\n      <td>...</td>\n      <td>603</td>\n      <td>NaN</td>\n      <td>NaN</td>\n      <td>NaN</td>\n      <td>NaN</td>\n      <td>NaN</td>\n      <td>NaN</td>\n      <td>NaN</td>\n      <td>NaN</td>\n      <td>15699.0</td>\n    </tr>\n    <tr>\n      <th>Algeria</th>\n      <td>Africa</td>\n      <td>Northern Africa</td>\n      <td>Developing regions</td>\n      <td>80</td>\n      <td>67</td>\n      <td>71</td>\n      <td>69</td>\n      <td>63</td>\n      <td>44</td>\n      <td>69</td>\n      <td>...</td>\n      <td>4331</td>\n      <td>NaN</td>\n      <td>NaN</td>\n      <td>NaN</td>\n      <td>NaN</td>\n      <td>NaN</td>\n      <td>NaN</td>\n      <td>NaN</td>\n      <td>NaN</td>\n      <td>69439.0</td>\n    </tr>\n  </tbody>\n</table>\n<p>3 rows × 46 columns</p>\n</div>"
     },
     "execution_count": 21,
     "metadata": {},
     "output_type": "execute_result"
    }
   ],
   "source": [
    "df_can.head(3)"
   ]
  },
  {
   "cell_type": "code",
   "execution_count": 22,
   "metadata": {
    "button": false,
    "new_sheet": false,
    "run_control": {
     "read_only": false
    },
    "scrolled": false
   },
   "outputs": [],
   "source": [
    "# optional: to remove the name of the index\n",
    "df_can.index.name = None"
   ]
  },
  {
   "cell_type": "markdown",
   "metadata": {
    "button": false,
    "new_sheet": false,
    "run_control": {
     "read_only": false
    }
   },
   "source": [
    "Example: Let's view the number of immigrants from Japan (row 87) for the following scenarios:\n",
    "1\\. The full row data (all columns)\n",
    "2\\. For year 2013\n",
    "3\\. For years 1980 to 1985\n"
   ]
  },
  {
   "cell_type": "code",
   "execution_count": 23,
   "metadata": {
    "button": false,
    "new_sheet": false,
    "run_control": {
     "read_only": false
    },
    "scrolled": true
   },
   "outputs": [
    {
     "data": {
      "text/plain": "Continent                   Asia\nRegion              Eastern Asia\nDevName        Developed regions\n1980                         701\n1981                         756\n1982                         598\n1983                         309\n1984                         246\n1985                         198\n1986                         248\n1987                         422\n1988                         324\n1989                         494\n1990                         379\n1991                         506\n1992                         605\n1993                         907\n1994                         956\n1995                         826\n1996                         994\n1997                         924\n1998                         897\n1999                        1083\n2000                        1010\n2001                        1092\n2002                         806\n2003                         817\n2004                         973\n2005                        1067\n2006                        1212\n2007                        1250\n2008                        1284\n2009                        1194\n2010                        1168\n2011                        1265\n2012                        1214\n2013                         982\nUnnamed: 43                  NaN\nUnnamed: 44                  NaN\nUnnamed: 45                  NaN\nUnnamed: 46                  NaN\nUnnamed: 47                  NaN\nUnnamed: 48                  NaN\nUnnamed: 49                  NaN\nUnnamed: 50                  NaN\nTotal                    27707.0\nName: Japan, dtype: object"
     },
     "execution_count": 23,
     "metadata": {},
     "output_type": "execute_result"
    }
   ],
   "source": [
    "# 1. the full row data (all columns)\n",
    "df_can.loc['Japan']"
   ]
  },
  {
   "cell_type": "code",
   "execution_count": 24,
   "outputs": [
    {
     "data": {
      "text/plain": "Continent                   Asia\nRegion              Eastern Asia\nDevName        Developed regions\n1980                         701\n1981                         756\n1982                         598\n1983                         309\n1984                         246\n1985                         198\n1986                         248\n1987                         422\n1988                         324\n1989                         494\n1990                         379\n1991                         506\n1992                         605\n1993                         907\n1994                         956\n1995                         826\n1996                         994\n1997                         924\n1998                         897\n1999                        1083\n2000                        1010\n2001                        1092\n2002                         806\n2003                         817\n2004                         973\n2005                        1067\n2006                        1212\n2007                        1250\n2008                        1284\n2009                        1194\n2010                        1168\n2011                        1265\n2012                        1214\n2013                         982\nUnnamed: 43                  NaN\nUnnamed: 44                  NaN\nUnnamed: 45                  NaN\nUnnamed: 46                  NaN\nUnnamed: 47                  NaN\nUnnamed: 48                  NaN\nUnnamed: 49                  NaN\nUnnamed: 50                  NaN\nTotal                    27707.0\nName: Japan, dtype: object"
     },
     "execution_count": 24,
     "metadata": {},
     "output_type": "execute_result"
    }
   ],
   "source": [
    "# alternate methods\n",
    "df_can.iloc[87]"
   ],
   "metadata": {
    "collapsed": false,
    "pycharm": {
     "name": "#%%\n"
    }
   }
  },
  {
   "cell_type": "code",
   "execution_count": 25,
   "outputs": [
    {
     "data": {
      "text/plain": "      Continent        Region            DevName  1980  1981  1982  1983  \\\nJapan      Asia  Eastern Asia  Developed regions   701   756   598   309   \n\n       1984  1985  1986  ...  2013  Unnamed: 43  Unnamed: 44  Unnamed: 45  \\\nJapan   246   198   248  ...   982          NaN          NaN          NaN   \n\n       Unnamed: 46  Unnamed: 47  Unnamed: 48  Unnamed: 49  Unnamed: 50  \\\nJapan          NaN          NaN          NaN          NaN          NaN   \n\n         Total  \nJapan  27707.0  \n\n[1 rows x 46 columns]",
      "text/html": "<div>\n<style scoped>\n    .dataframe tbody tr th:only-of-type {\n        vertical-align: middle;\n    }\n\n    .dataframe tbody tr th {\n        vertical-align: top;\n    }\n\n    .dataframe thead th {\n        text-align: right;\n    }\n</style>\n<table border=\"1\" class=\"dataframe\">\n  <thead>\n    <tr style=\"text-align: right;\">\n      <th></th>\n      <th>Continent</th>\n      <th>Region</th>\n      <th>DevName</th>\n      <th>1980</th>\n      <th>1981</th>\n      <th>1982</th>\n      <th>1983</th>\n      <th>1984</th>\n      <th>1985</th>\n      <th>1986</th>\n      <th>...</th>\n      <th>2013</th>\n      <th>Unnamed: 43</th>\n      <th>Unnamed: 44</th>\n      <th>Unnamed: 45</th>\n      <th>Unnamed: 46</th>\n      <th>Unnamed: 47</th>\n      <th>Unnamed: 48</th>\n      <th>Unnamed: 49</th>\n      <th>Unnamed: 50</th>\n      <th>Total</th>\n    </tr>\n  </thead>\n  <tbody>\n    <tr>\n      <th>Japan</th>\n      <td>Asia</td>\n      <td>Eastern Asia</td>\n      <td>Developed regions</td>\n      <td>701</td>\n      <td>756</td>\n      <td>598</td>\n      <td>309</td>\n      <td>246</td>\n      <td>198</td>\n      <td>248</td>\n      <td>...</td>\n      <td>982</td>\n      <td>NaN</td>\n      <td>NaN</td>\n      <td>NaN</td>\n      <td>NaN</td>\n      <td>NaN</td>\n      <td>NaN</td>\n      <td>NaN</td>\n      <td>NaN</td>\n      <td>27707.0</td>\n    </tr>\n  </tbody>\n</table>\n<p>1 rows × 46 columns</p>\n</div>"
     },
     "execution_count": 25,
     "metadata": {},
     "output_type": "execute_result"
    }
   ],
   "source": [
    "df_can[df_can.index == 'Japan']"
   ],
   "metadata": {
    "collapsed": false,
    "pycharm": {
     "name": "#%%\n"
    }
   }
  },
  {
   "cell_type": "code",
   "execution_count": 26,
   "metadata": {
    "button": false,
    "new_sheet": false,
    "run_control": {
     "read_only": false
    },
    "scrolled": true
   },
   "outputs": [
    {
     "data": {
      "text/plain": "982"
     },
     "execution_count": 26,
     "metadata": {},
     "output_type": "execute_result"
    }
   ],
   "source": [
    "# 2. for year 2013\n",
    "df_can.loc['Japan', 2013]"
   ]
  },
  {
   "cell_type": "code",
   "execution_count": 27,
   "outputs": [
    {
     "data": {
      "text/plain": "982"
     },
     "execution_count": 27,
     "metadata": {},
     "output_type": "execute_result"
    }
   ],
   "source": [
    "# alternate method\n",
    "# year 2013 is the last column, with a positional index of 36\n",
    "df_can.iloc[87, 36]"
   ],
   "metadata": {
    "collapsed": false,
    "pycharm": {
     "name": "#%%\n"
    }
   }
  },
  {
   "cell_type": "code",
   "execution_count": 28,
   "metadata": {
    "button": false,
    "new_sheet": false,
    "run_control": {
     "read_only": false
    }
   },
   "outputs": [
    {
     "data": {
      "text/plain": "1980    701\n1981    756\n1982    598\n1983    309\n1984    246\n1984    246\nName: Japan, dtype: object"
     },
     "execution_count": 28,
     "metadata": {},
     "output_type": "execute_result"
    }
   ],
   "source": [
    "# 3. for years 1980 to 1985\n",
    "df_can.loc['Japan', [1980, 1981, 1982, 1983, 1984, 1984]]"
   ]
  },
  {
   "cell_type": "code",
   "execution_count": 29,
   "outputs": [
    {
     "data": {
      "text/plain": "1980    701\n1981    756\n1982    598\n1983    309\n1984    246\n1985    198\nName: Japan, dtype: object"
     },
     "execution_count": 29,
     "metadata": {},
     "output_type": "execute_result"
    }
   ],
   "source": [
    "# Alternative Method\n",
    "df_can.iloc[87, [3, 4, 5, 6, 7, 8]]"
   ],
   "metadata": {
    "collapsed": false,
    "pycharm": {
     "name": "#%%\n"
    }
   }
  },
  {
   "cell_type": "markdown",
   "metadata": {
    "button": false,
    "new_sheet": false,
    "run_control": {
     "read_only": false
    }
   },
   "source": [
    "Column names that are integers (such as the years) might introduce some confusion. For example, when we are referencing the year 2013, one might confuse that when the 2013th positional index.\n",
    "\n",
    "To avoid this ambuigity, let's convert the column names into strings: '1980' to '2013'.\n"
   ]
  },
  {
   "cell_type": "code",
   "execution_count": 31,
   "metadata": {
    "button": false,
    "new_sheet": false,
    "run_control": {
     "read_only": false
    },
    "scrolled": false
   },
   "outputs": [],
   "source": [
    "df_can.columns = list(map(str, df_can.columns))\n",
    "# [print (type(x)) for x in df_can.columns.values] #<-- uncomment to check type of column headers"
   ]
  },
  {
   "cell_type": "markdown",
   "metadata": {
    "button": false,
    "new_sheet": false,
    "run_control": {
     "read_only": false
    }
   },
   "source": [
    "Since we converted the years to string, let's declare a variable that will allow us to easily call upon the full range of years:\n"
   ]
  },
  {
   "cell_type": "code",
   "execution_count": 32,
   "metadata": {
    "button": false,
    "new_sheet": false,
    "run_control": {
     "read_only": false
    },
    "scrolled": false
   },
   "outputs": [
    {
     "data": {
      "text/plain": "['1980',\n '1981',\n '1982',\n '1983',\n '1984',\n '1985',\n '1986',\n '1987',\n '1988',\n '1989',\n '1990',\n '1991',\n '1992',\n '1993',\n '1994',\n '1995',\n '1996',\n '1997',\n '1998',\n '1999',\n '2000',\n '2001',\n '2002',\n '2003',\n '2004',\n '2005',\n '2006',\n '2007',\n '2008',\n '2009',\n '2010',\n '2011',\n '2012',\n '2013']"
     },
     "execution_count": 32,
     "metadata": {},
     "output_type": "execute_result"
    }
   ],
   "source": [
    "# useful for plotting later on\n",
    "years = list(map(str, range(1980, 2014)))\n",
    "years"
   ]
  },
  {
   "cell_type": "markdown",
   "metadata": {
    "button": false,
    "new_sheet": false,
    "run_control": {
     "read_only": false
    }
   },
   "source": [
    "### Filtering based on a criteria\n",
    "\n",
    "To filter the dataframe based on a condition, we simply pass the condition as a boolean vector.\n",
    "\n",
    "For example, Let's filter the dataframe to show the data on Asian countries (AreaName = Asia).\n"
   ]
  },
  {
   "cell_type": "code",
   "execution_count": 33,
   "metadata": {
    "button": false,
    "new_sheet": false,
    "run_control": {
     "read_only": false
    },
    "scrolled": true
   },
   "outputs": [
    {
     "name": "stdout",
     "output_type": "stream",
     "text": [
      "Afghanistan        True\n",
      "Albania           False\n",
      "Algeria           False\n",
      "American Samoa    False\n",
      "Andorra           False\n",
      "                  ...  \n",
      "Viet Nam           True\n",
      "Western Sahara    False\n",
      "Yemen              True\n",
      "Zambia            False\n",
      "Zimbabwe          False\n",
      "Name: Continent, Length: 195, dtype: bool\n"
     ]
    }
   ],
   "source": [
    "# 1. create the condition boolean series\n",
    "condition = df_can['Continent'] == 'Asia'\n",
    "print(condition)"
   ]
  },
  {
   "cell_type": "code",
   "execution_count": 34,
   "metadata": {
    "button": false,
    "new_sheet": false,
    "run_control": {
     "read_only": false
    }
   },
   "outputs": [
    {
     "data": {
      "text/plain": "                                               Continent              Region  \\\nAfghanistan                                         Asia       Southern Asia   \nArmenia                                             Asia        Western Asia   \nAzerbaijan                                          Asia        Western Asia   \nBahrain                                             Asia        Western Asia   \nBangladesh                                          Asia       Southern Asia   \nBhutan                                              Asia       Southern Asia   \nBrunei Darussalam                                   Asia  South-Eastern Asia   \nCambodia                                            Asia  South-Eastern Asia   \nChina                                               Asia        Eastern Asia   \nChina, Hong Kong Special Administrative Region      Asia        Eastern Asia   \nChina, Macao Special Administrative Region          Asia        Eastern Asia   \nCyprus                                              Asia        Western Asia   \nDemocratic People's Republic of Korea               Asia        Eastern Asia   \nGeorgia                                             Asia        Western Asia   \nIndia                                               Asia       Southern Asia   \nIndonesia                                           Asia  South-Eastern Asia   \nIran (Islamic Republic of)                          Asia       Southern Asia   \nIraq                                                Asia        Western Asia   \nIsrael                                              Asia        Western Asia   \nJapan                                               Asia        Eastern Asia   \nJordan                                              Asia        Western Asia   \nKazakhstan                                          Asia        Central Asia   \nKuwait                                              Asia        Western Asia   \nKyrgyzstan                                          Asia        Central Asia   \nLao People's Democratic Republic                    Asia  South-Eastern Asia   \nLebanon                                             Asia        Western Asia   \nMalaysia                                            Asia  South-Eastern Asia   \nMaldives                                            Asia       Southern Asia   \nMongolia                                            Asia        Eastern Asia   \nMyanmar                                             Asia  South-Eastern Asia   \nNepal                                               Asia       Southern Asia   \nOman                                                Asia        Western Asia   \nPakistan                                            Asia       Southern Asia   \nPhilippines                                         Asia  South-Eastern Asia   \nQatar                                               Asia        Western Asia   \nRepublic of Korea                                   Asia        Eastern Asia   \nSaudi Arabia                                        Asia        Western Asia   \nSingapore                                           Asia  South-Eastern Asia   \nSri Lanka                                           Asia       Southern Asia   \nState of Palestine                                  Asia        Western Asia   \nSyrian Arab Republic                                Asia        Western Asia   \nTajikistan                                          Asia        Central Asia   \nThailand                                            Asia  South-Eastern Asia   \nTurkey                                              Asia        Western Asia   \nTurkmenistan                                        Asia        Central Asia   \nUnited Arab Emirates                                Asia        Western Asia   \nUzbekistan                                          Asia        Central Asia   \nViet Nam                                            Asia  South-Eastern Asia   \nYemen                                               Asia        Western Asia   \n\n                                                           DevName  1980  \\\nAfghanistan                                     Developing regions    16   \nArmenia                                         Developing regions     0   \nAzerbaijan                                      Developing regions     0   \nBahrain                                         Developing regions     0   \nBangladesh                                      Developing regions    83   \nBhutan                                          Developing regions     0   \nBrunei Darussalam                               Developing regions    79   \nCambodia                                        Developing regions    12   \nChina                                           Developing regions  5123   \nChina, Hong Kong Special Administrative Region  Developing regions     0   \nChina, Macao Special Administrative Region      Developing regions     0   \nCyprus                                          Developing regions   132   \nDemocratic People's Republic of Korea           Developing regions     1   \nGeorgia                                         Developing regions     0   \nIndia                                           Developing regions  8880   \nIndonesia                                       Developing regions   186   \nIran (Islamic Republic of)                      Developing regions  1172   \nIraq                                            Developing regions   262   \nIsrael                                          Developing regions  1403   \nJapan                                            Developed regions   701   \nJordan                                          Developing regions   177   \nKazakhstan                                      Developing regions     0   \nKuwait                                          Developing regions     1   \nKyrgyzstan                                      Developing regions     0   \nLao People's Democratic Republic                Developing regions    11   \nLebanon                                         Developing regions  1409   \nMalaysia                                        Developing regions   786   \nMaldives                                        Developing regions     0   \nMongolia                                        Developing regions     0   \nMyanmar                                         Developing regions    80   \nNepal                                           Developing regions     1   \nOman                                            Developing regions     0   \nPakistan                                        Developing regions   978   \nPhilippines                                     Developing regions  6051   \nQatar                                           Developing regions     0   \nRepublic of Korea                               Developing regions  1011   \nSaudi Arabia                                    Developing regions     0   \nSingapore                                       Developing regions   241   \nSri Lanka                                       Developing regions   185   \nState of Palestine                              Developing regions     0   \nSyrian Arab Republic                            Developing regions   315   \nTajikistan                                      Developing regions     0   \nThailand                                        Developing regions    56   \nTurkey                                          Developing regions   481   \nTurkmenistan                                    Developing regions     0   \nUnited Arab Emirates                            Developing regions     0   \nUzbekistan                                      Developing regions     0   \nViet Nam                                        Developing regions  1191   \nYemen                                           Developing regions     1   \n\n                                                1981  1982  1983  1984  1985  \\\nAfghanistan                                       39    39    47    71   340   \nArmenia                                            0     0     0     0     0   \nAzerbaijan                                         0     0     0     0     0   \nBahrain                                            2     1     1     1     3   \nBangladesh                                        84    86    81    98    92   \nBhutan                                             0     0     0     1     0   \nBrunei Darussalam                                  6     8     2     2     4   \nCambodia                                          19    26    33    10     7   \nChina                                           6682  3308  1863  1527  1816   \nChina, Hong Kong Special Administrative Region     0     0     0     0     0   \nChina, Macao Special Administrative Region         0     0     0     0     0   \nCyprus                                           128    84    46    46    43   \nDemocratic People's Republic of Korea              1     3     1     4     3   \nGeorgia                                            0     0     0     0     0   \nIndia                                           8670  8147  7338  5704  4211   \nIndonesia                                        178   252   115   123   100   \nIran (Islamic Republic of)                      1429  1822  1592  1977  1648   \nIraq                                             245   260   380   428   231   \nIsrael                                          1711  1334   541   446   680   \nJapan                                            756   598   309   246   198   \nJordan                                           160   155   113   102   179   \nKazakhstan                                         0     0     0     0     0   \nKuwait                                             0     8     2     1     4   \nKyrgyzstan                                         0     0     0     0     0   \nLao People's Democratic Republic                   6    16    16     7    17   \nLebanon                                         1119  1159   789  1253  1683   \nMalaysia                                         816   813   448   384   374   \nMaldives                                           0     0     1     0     0   \nMongolia                                           0     0     0     0     0   \nMyanmar                                           62    46    31    41    23   \nNepal                                              1     6     1     2     4   \nOman                                               0     0     8     0     0   \nPakistan                                         972  1201   900   668   514   \nPhilippines                                     5921  5249  4562  3801  3150   \nQatar                                              0     0     0     0     0   \nRepublic of Korea                               1456  1572  1081   847   962   \nSaudi Arabia                                       0     1     4     1     2   \nSingapore                                        301   337   169   128   139   \nSri Lanka                                        371   290   197  1086   845   \nState of Palestine                                 0     0     0     0     0   \nSyrian Arab Republic                             419   409   269   264   385   \nTajikistan                                         0     0     0     0     0   \nThailand                                          53   113    65    82    66   \nTurkey                                           874   706   280   338   202   \nTurkmenistan                                       0     0     0     0     0   \nUnited Arab Emirates                               2     2     1     2     0   \nUzbekistan                                         0     0     0     0     0   \nViet Nam                                        1829  2162  3404  7583  5907   \nYemen                                              2     1     6     0    18   \n\n                                                1986  ...   2013  Unnamed: 43  \\\nAfghanistan                                      496  ...   2004          NaN   \nArmenia                                            0  ...    207          NaN   \nAzerbaijan                                         0  ...     57          NaN   \nBahrain                                            0  ...     32          NaN   \nBangladesh                                       486  ...   3789          NaN   \nBhutan                                             0  ...    487          NaN   \nBrunei Darussalam                                 12  ...      6          NaN   \nCambodia                                           8  ...    288          NaN   \nChina                                           1960  ...  34129          NaN   \nChina, Hong Kong Special Administrative Region     0  ...    774          NaN   \nChina, Macao Special Administrative Region         0  ...     29          NaN   \nCyprus                                            48  ...     16          NaN   \nDemocratic People's Republic of Korea              0  ...     17          NaN   \nGeorgia                                            0  ...    125          NaN   \nIndia                                           7150  ...  33087          NaN   \nIndonesia                                        127  ...    387          NaN   \nIran (Islamic Republic of)                      1794  ...  11291          NaN   \nIraq                                             265  ...   4918          NaN   \nIsrael                                          1212  ...   1945          NaN   \nJapan                                            248  ...    982          NaN   \nJordan                                           181  ...   1255          NaN   \nKazakhstan                                         0  ...    348          NaN   \nKuwait                                             4  ...     48          NaN   \nKyrgyzstan                                         0  ...    123          NaN   \nLao People's Democratic Republic                  21  ...     15          NaN   \nLebanon                                         2576  ...   2172          NaN   \nMalaysia                                         425  ...    204          NaN   \nMaldives                                           0  ...      1          NaN   \nMongolia                                           0  ...     99          NaN   \nMyanmar                                           18  ...    262          NaN   \nNepal                                             13  ...   1308          NaN   \nOman                                               0  ...     11          NaN   \nPakistan                                         691  ...  12603          NaN   \nPhilippines                                     4166  ...  29544          NaN   \nQatar                                              1  ...      6          NaN   \nRepublic of Korea                               1208  ...   4509          NaN   \nSaudi Arabia                                       5  ...    267          NaN   \nSingapore                                        205  ...    141          NaN   \nSri Lanka                                       1838  ...   2394          NaN   \nState of Palestine                                 0  ...    462          NaN   \nSyrian Arab Republic                             493  ...   1009          NaN   \nTajikistan                                         0  ...     39          NaN   \nThailand                                          78  ...    400          NaN   \nTurkey                                           257  ...    729          NaN   \nTurkmenistan                                       0  ...     14          NaN   \nUnited Arab Emirates                               5  ...     46          NaN   \nUzbekistan                                         0  ...    167          NaN   \nViet Nam                                        2741  ...   2112          NaN   \nYemen                                              7  ...    217          NaN   \n\n                                                Unnamed: 44  Unnamed: 45  \\\nAfghanistan                                             NaN          NaN   \nArmenia                                                 NaN          NaN   \nAzerbaijan                                              NaN          NaN   \nBahrain                                                 NaN          NaN   \nBangladesh                                              NaN          NaN   \nBhutan                                                  NaN          NaN   \nBrunei Darussalam                                       NaN          NaN   \nCambodia                                                NaN          NaN   \nChina                                                   NaN          NaN   \nChina, Hong Kong Special Administrative Region          NaN          NaN   \nChina, Macao Special Administrative Region              NaN          NaN   \nCyprus                                                  NaN          NaN   \nDemocratic People's Republic of Korea                   NaN          NaN   \nGeorgia                                                 NaN          NaN   \nIndia                                                   NaN          NaN   \nIndonesia                                               NaN          NaN   \nIran (Islamic Republic of)                              NaN          NaN   \nIraq                                                    NaN          NaN   \nIsrael                                                  NaN          NaN   \nJapan                                                   NaN          NaN   \nJordan                                                  NaN          NaN   \nKazakhstan                                              NaN          NaN   \nKuwait                                                  NaN          NaN   \nKyrgyzstan                                              NaN          NaN   \nLao People's Democratic Republic                        NaN          NaN   \nLebanon                                                 NaN          NaN   \nMalaysia                                                NaN          NaN   \nMaldives                                                NaN          NaN   \nMongolia                                                NaN          NaN   \nMyanmar                                                 NaN          NaN   \nNepal                                                   NaN          NaN   \nOman                                                    NaN          NaN   \nPakistan                                                NaN          NaN   \nPhilippines                                             NaN          NaN   \nQatar                                                   NaN          NaN   \nRepublic of Korea                                       NaN          NaN   \nSaudi Arabia                                            NaN          NaN   \nSingapore                                               NaN          NaN   \nSri Lanka                                               NaN          NaN   \nState of Palestine                                      NaN          NaN   \nSyrian Arab Republic                                    NaN          NaN   \nTajikistan                                              NaN          NaN   \nThailand                                                NaN          NaN   \nTurkey                                                  NaN          NaN   \nTurkmenistan                                            NaN          NaN   \nUnited Arab Emirates                                    NaN          NaN   \nUzbekistan                                              NaN          NaN   \nViet Nam                                                NaN          NaN   \nYemen                                                   NaN          NaN   \n\n                                                Unnamed: 46  Unnamed: 47  \\\nAfghanistan                                             NaN          NaN   \nArmenia                                                 NaN          NaN   \nAzerbaijan                                              NaN          NaN   \nBahrain                                                 NaN          NaN   \nBangladesh                                              NaN          NaN   \nBhutan                                                  NaN          NaN   \nBrunei Darussalam                                       NaN          NaN   \nCambodia                                                NaN          NaN   \nChina                                                   NaN          NaN   \nChina, Hong Kong Special Administrative Region          NaN          NaN   \nChina, Macao Special Administrative Region              NaN          NaN   \nCyprus                                                  NaN          NaN   \nDemocratic People's Republic of Korea                   NaN          NaN   \nGeorgia                                                 NaN          NaN   \nIndia                                                   NaN          NaN   \nIndonesia                                               NaN          NaN   \nIran (Islamic Republic of)                              NaN          NaN   \nIraq                                                    NaN          NaN   \nIsrael                                                  NaN          NaN   \nJapan                                                   NaN          NaN   \nJordan                                                  NaN          NaN   \nKazakhstan                                              NaN          NaN   \nKuwait                                                  NaN          NaN   \nKyrgyzstan                                              NaN          NaN   \nLao People's Democratic Republic                        NaN          NaN   \nLebanon                                                 NaN          NaN   \nMalaysia                                                NaN          NaN   \nMaldives                                                NaN          NaN   \nMongolia                                                NaN          NaN   \nMyanmar                                                 NaN          NaN   \nNepal                                                   NaN          NaN   \nOman                                                    NaN          NaN   \nPakistan                                                NaN          NaN   \nPhilippines                                             NaN          NaN   \nQatar                                                   NaN          NaN   \nRepublic of Korea                                       NaN          NaN   \nSaudi Arabia                                            NaN          NaN   \nSingapore                                               NaN          NaN   \nSri Lanka                                               NaN          NaN   \nState of Palestine                                      NaN          NaN   \nSyrian Arab Republic                                    NaN          NaN   \nTajikistan                                              NaN          NaN   \nThailand                                                NaN          NaN   \nTurkey                                                  NaN          NaN   \nTurkmenistan                                            NaN          NaN   \nUnited Arab Emirates                                    NaN          NaN   \nUzbekistan                                              NaN          NaN   \nViet Nam                                                NaN          NaN   \nYemen                                                   NaN          NaN   \n\n                                                Unnamed: 48  Unnamed: 49  \\\nAfghanistan                                             NaN          NaN   \nArmenia                                                 NaN          NaN   \nAzerbaijan                                              NaN          NaN   \nBahrain                                                 NaN          NaN   \nBangladesh                                              NaN          NaN   \nBhutan                                                  NaN          NaN   \nBrunei Darussalam                                       NaN          NaN   \nCambodia                                                NaN          NaN   \nChina                                                   NaN          NaN   \nChina, Hong Kong Special Administrative Region          NaN          NaN   \nChina, Macao Special Administrative Region              NaN          NaN   \nCyprus                                                  NaN          NaN   \nDemocratic People's Republic of Korea                   NaN          NaN   \nGeorgia                                                 NaN          NaN   \nIndia                                                   NaN          NaN   \nIndonesia                                               NaN          NaN   \nIran (Islamic Republic of)                              NaN          NaN   \nIraq                                                    NaN          NaN   \nIsrael                                                  NaN          NaN   \nJapan                                                   NaN          NaN   \nJordan                                                  NaN          NaN   \nKazakhstan                                              NaN          NaN   \nKuwait                                                  NaN          NaN   \nKyrgyzstan                                              NaN          NaN   \nLao People's Democratic Republic                        NaN          NaN   \nLebanon                                                 NaN          NaN   \nMalaysia                                                NaN          NaN   \nMaldives                                                NaN          NaN   \nMongolia                                                NaN          NaN   \nMyanmar                                                 NaN          NaN   \nNepal                                                   NaN          NaN   \nOman                                                    NaN          NaN   \nPakistan                                                NaN          NaN   \nPhilippines                                             NaN          NaN   \nQatar                                                   NaN          NaN   \nRepublic of Korea                                       NaN          NaN   \nSaudi Arabia                                            NaN          NaN   \nSingapore                                               NaN          NaN   \nSri Lanka                                               NaN          NaN   \nState of Palestine                                      NaN          NaN   \nSyrian Arab Republic                                    NaN          NaN   \nTajikistan                                              NaN          NaN   \nThailand                                                NaN          NaN   \nTurkey                                                  NaN          NaN   \nTurkmenistan                                            NaN          NaN   \nUnited Arab Emirates                                    NaN          NaN   \nUzbekistan                                              NaN          NaN   \nViet Nam                                                NaN          NaN   \nYemen                                                   NaN          NaN   \n\n                                                Unnamed: 50     Total  \nAfghanistan                                             NaN   58639.0  \nArmenia                                                 NaN    3310.0  \nAzerbaijan                                              NaN    2649.0  \nBahrain                                                 NaN     475.0  \nBangladesh                                              NaN   65568.0  \nBhutan                                                  NaN    5876.0  \nBrunei Darussalam                                       NaN     600.0  \nCambodia                                                NaN    6538.0  \nChina                                                   NaN  659962.0  \nChina, Hong Kong Special Administrative Region          NaN    9327.0  \nChina, Macao Special Administrative Region              NaN     284.0  \nCyprus                                                  NaN    1126.0  \nDemocratic People's Republic of Korea                   NaN     388.0  \nGeorgia                                                 NaN    2068.0  \nIndia                                                   NaN  691904.0  \nIndonesia                                               NaN   13150.0  \nIran (Islamic Republic of)                              NaN  175923.0  \nIraq                                                    NaN   69789.0  \nIsrael                                                  NaN   66508.0  \nJapan                                                   NaN   27707.0  \nJordan                                                  NaN   35406.0  \nKazakhstan                                              NaN    8490.0  \nKuwait                                                  NaN    2025.0  \nKyrgyzstan                                              NaN    2353.0  \nLao People's Democratic Republic                        NaN    1089.0  \nLebanon                                                 NaN  115359.0  \nMalaysia                                                NaN   24417.0  \nMaldives                                                NaN      30.0  \nMongolia                                                NaN     952.0  \nMyanmar                                                 NaN    9245.0  \nNepal                                                   NaN   10222.0  \nOman                                                    NaN     224.0  \nPakistan                                                NaN  241600.0  \nPhilippines                                             NaN  511391.0  \nQatar                                                   NaN     157.0  \nRepublic of Korea                                       NaN  142581.0  \nSaudi Arabia                                            NaN    3425.0  \nSingapore                                               NaN   14579.0  \nSri Lanka                                               NaN  148358.0  \nState of Palestine                                      NaN    6512.0  \nSyrian Arab Republic                                    NaN   31485.0  \nTajikistan                                              NaN     503.0  \nThailand                                                NaN    9174.0  \nTurkey                                                  NaN   31781.0  \nTurkmenistan                                            NaN     310.0  \nUnited Arab Emirates                                    NaN     836.0  \nUzbekistan                                              NaN    3368.0  \nViet Nam                                                NaN   97146.0  \nYemen                                                   NaN    2985.0  \n\n[49 rows x 46 columns]",
      "text/html": "<div>\n<style scoped>\n    .dataframe tbody tr th:only-of-type {\n        vertical-align: middle;\n    }\n\n    .dataframe tbody tr th {\n        vertical-align: top;\n    }\n\n    .dataframe thead th {\n        text-align: right;\n    }\n</style>\n<table border=\"1\" class=\"dataframe\">\n  <thead>\n    <tr style=\"text-align: right;\">\n      <th></th>\n      <th>Continent</th>\n      <th>Region</th>\n      <th>DevName</th>\n      <th>1980</th>\n      <th>1981</th>\n      <th>1982</th>\n      <th>1983</th>\n      <th>1984</th>\n      <th>1985</th>\n      <th>1986</th>\n      <th>...</th>\n      <th>2013</th>\n      <th>Unnamed: 43</th>\n      <th>Unnamed: 44</th>\n      <th>Unnamed: 45</th>\n      <th>Unnamed: 46</th>\n      <th>Unnamed: 47</th>\n      <th>Unnamed: 48</th>\n      <th>Unnamed: 49</th>\n      <th>Unnamed: 50</th>\n      <th>Total</th>\n    </tr>\n  </thead>\n  <tbody>\n    <tr>\n      <th>Afghanistan</th>\n      <td>Asia</td>\n      <td>Southern Asia</td>\n      <td>Developing regions</td>\n      <td>16</td>\n      <td>39</td>\n      <td>39</td>\n      <td>47</td>\n      <td>71</td>\n      <td>340</td>\n      <td>496</td>\n      <td>...</td>\n      <td>2004</td>\n      <td>NaN</td>\n      <td>NaN</td>\n      <td>NaN</td>\n      <td>NaN</td>\n      <td>NaN</td>\n      <td>NaN</td>\n      <td>NaN</td>\n      <td>NaN</td>\n      <td>58639.0</td>\n    </tr>\n    <tr>\n      <th>Armenia</th>\n      <td>Asia</td>\n      <td>Western Asia</td>\n      <td>Developing regions</td>\n      <td>0</td>\n      <td>0</td>\n      <td>0</td>\n      <td>0</td>\n      <td>0</td>\n      <td>0</td>\n      <td>0</td>\n      <td>...</td>\n      <td>207</td>\n      <td>NaN</td>\n      <td>NaN</td>\n      <td>NaN</td>\n      <td>NaN</td>\n      <td>NaN</td>\n      <td>NaN</td>\n      <td>NaN</td>\n      <td>NaN</td>\n      <td>3310.0</td>\n    </tr>\n    <tr>\n      <th>Azerbaijan</th>\n      <td>Asia</td>\n      <td>Western Asia</td>\n      <td>Developing regions</td>\n      <td>0</td>\n      <td>0</td>\n      <td>0</td>\n      <td>0</td>\n      <td>0</td>\n      <td>0</td>\n      <td>0</td>\n      <td>...</td>\n      <td>57</td>\n      <td>NaN</td>\n      <td>NaN</td>\n      <td>NaN</td>\n      <td>NaN</td>\n      <td>NaN</td>\n      <td>NaN</td>\n      <td>NaN</td>\n      <td>NaN</td>\n      <td>2649.0</td>\n    </tr>\n    <tr>\n      <th>Bahrain</th>\n      <td>Asia</td>\n      <td>Western Asia</td>\n      <td>Developing regions</td>\n      <td>0</td>\n      <td>2</td>\n      <td>1</td>\n      <td>1</td>\n      <td>1</td>\n      <td>3</td>\n      <td>0</td>\n      <td>...</td>\n      <td>32</td>\n      <td>NaN</td>\n      <td>NaN</td>\n      <td>NaN</td>\n      <td>NaN</td>\n      <td>NaN</td>\n      <td>NaN</td>\n      <td>NaN</td>\n      <td>NaN</td>\n      <td>475.0</td>\n    </tr>\n    <tr>\n      <th>Bangladesh</th>\n      <td>Asia</td>\n      <td>Southern Asia</td>\n      <td>Developing regions</td>\n      <td>83</td>\n      <td>84</td>\n      <td>86</td>\n      <td>81</td>\n      <td>98</td>\n      <td>92</td>\n      <td>486</td>\n      <td>...</td>\n      <td>3789</td>\n      <td>NaN</td>\n      <td>NaN</td>\n      <td>NaN</td>\n      <td>NaN</td>\n      <td>NaN</td>\n      <td>NaN</td>\n      <td>NaN</td>\n      <td>NaN</td>\n      <td>65568.0</td>\n    </tr>\n    <tr>\n      <th>Bhutan</th>\n      <td>Asia</td>\n      <td>Southern Asia</td>\n      <td>Developing regions</td>\n      <td>0</td>\n      <td>0</td>\n      <td>0</td>\n      <td>0</td>\n      <td>1</td>\n      <td>0</td>\n      <td>0</td>\n      <td>...</td>\n      <td>487</td>\n      <td>NaN</td>\n      <td>NaN</td>\n      <td>NaN</td>\n      <td>NaN</td>\n      <td>NaN</td>\n      <td>NaN</td>\n      <td>NaN</td>\n      <td>NaN</td>\n      <td>5876.0</td>\n    </tr>\n    <tr>\n      <th>Brunei Darussalam</th>\n      <td>Asia</td>\n      <td>South-Eastern Asia</td>\n      <td>Developing regions</td>\n      <td>79</td>\n      <td>6</td>\n      <td>8</td>\n      <td>2</td>\n      <td>2</td>\n      <td>4</td>\n      <td>12</td>\n      <td>...</td>\n      <td>6</td>\n      <td>NaN</td>\n      <td>NaN</td>\n      <td>NaN</td>\n      <td>NaN</td>\n      <td>NaN</td>\n      <td>NaN</td>\n      <td>NaN</td>\n      <td>NaN</td>\n      <td>600.0</td>\n    </tr>\n    <tr>\n      <th>Cambodia</th>\n      <td>Asia</td>\n      <td>South-Eastern Asia</td>\n      <td>Developing regions</td>\n      <td>12</td>\n      <td>19</td>\n      <td>26</td>\n      <td>33</td>\n      <td>10</td>\n      <td>7</td>\n      <td>8</td>\n      <td>...</td>\n      <td>288</td>\n      <td>NaN</td>\n      <td>NaN</td>\n      <td>NaN</td>\n      <td>NaN</td>\n      <td>NaN</td>\n      <td>NaN</td>\n      <td>NaN</td>\n      <td>NaN</td>\n      <td>6538.0</td>\n    </tr>\n    <tr>\n      <th>China</th>\n      <td>Asia</td>\n      <td>Eastern Asia</td>\n      <td>Developing regions</td>\n      <td>5123</td>\n      <td>6682</td>\n      <td>3308</td>\n      <td>1863</td>\n      <td>1527</td>\n      <td>1816</td>\n      <td>1960</td>\n      <td>...</td>\n      <td>34129</td>\n      <td>NaN</td>\n      <td>NaN</td>\n      <td>NaN</td>\n      <td>NaN</td>\n      <td>NaN</td>\n      <td>NaN</td>\n      <td>NaN</td>\n      <td>NaN</td>\n      <td>659962.0</td>\n    </tr>\n    <tr>\n      <th>China, Hong Kong Special Administrative Region</th>\n      <td>Asia</td>\n      <td>Eastern Asia</td>\n      <td>Developing regions</td>\n      <td>0</td>\n      <td>0</td>\n      <td>0</td>\n      <td>0</td>\n      <td>0</td>\n      <td>0</td>\n      <td>0</td>\n      <td>...</td>\n      <td>774</td>\n      <td>NaN</td>\n      <td>NaN</td>\n      <td>NaN</td>\n      <td>NaN</td>\n      <td>NaN</td>\n      <td>NaN</td>\n      <td>NaN</td>\n      <td>NaN</td>\n      <td>9327.0</td>\n    </tr>\n    <tr>\n      <th>China, Macao Special Administrative Region</th>\n      <td>Asia</td>\n      <td>Eastern Asia</td>\n      <td>Developing regions</td>\n      <td>0</td>\n      <td>0</td>\n      <td>0</td>\n      <td>0</td>\n      <td>0</td>\n      <td>0</td>\n      <td>0</td>\n      <td>...</td>\n      <td>29</td>\n      <td>NaN</td>\n      <td>NaN</td>\n      <td>NaN</td>\n      <td>NaN</td>\n      <td>NaN</td>\n      <td>NaN</td>\n      <td>NaN</td>\n      <td>NaN</td>\n      <td>284.0</td>\n    </tr>\n    <tr>\n      <th>Cyprus</th>\n      <td>Asia</td>\n      <td>Western Asia</td>\n      <td>Developing regions</td>\n      <td>132</td>\n      <td>128</td>\n      <td>84</td>\n      <td>46</td>\n      <td>46</td>\n      <td>43</td>\n      <td>48</td>\n      <td>...</td>\n      <td>16</td>\n      <td>NaN</td>\n      <td>NaN</td>\n      <td>NaN</td>\n      <td>NaN</td>\n      <td>NaN</td>\n      <td>NaN</td>\n      <td>NaN</td>\n      <td>NaN</td>\n      <td>1126.0</td>\n    </tr>\n    <tr>\n      <th>Democratic People's Republic of Korea</th>\n      <td>Asia</td>\n      <td>Eastern Asia</td>\n      <td>Developing regions</td>\n      <td>1</td>\n      <td>1</td>\n      <td>3</td>\n      <td>1</td>\n      <td>4</td>\n      <td>3</td>\n      <td>0</td>\n      <td>...</td>\n      <td>17</td>\n      <td>NaN</td>\n      <td>NaN</td>\n      <td>NaN</td>\n      <td>NaN</td>\n      <td>NaN</td>\n      <td>NaN</td>\n      <td>NaN</td>\n      <td>NaN</td>\n      <td>388.0</td>\n    </tr>\n    <tr>\n      <th>Georgia</th>\n      <td>Asia</td>\n      <td>Western Asia</td>\n      <td>Developing regions</td>\n      <td>0</td>\n      <td>0</td>\n      <td>0</td>\n      <td>0</td>\n      <td>0</td>\n      <td>0</td>\n      <td>0</td>\n      <td>...</td>\n      <td>125</td>\n      <td>NaN</td>\n      <td>NaN</td>\n      <td>NaN</td>\n      <td>NaN</td>\n      <td>NaN</td>\n      <td>NaN</td>\n      <td>NaN</td>\n      <td>NaN</td>\n      <td>2068.0</td>\n    </tr>\n    <tr>\n      <th>India</th>\n      <td>Asia</td>\n      <td>Southern Asia</td>\n      <td>Developing regions</td>\n      <td>8880</td>\n      <td>8670</td>\n      <td>8147</td>\n      <td>7338</td>\n      <td>5704</td>\n      <td>4211</td>\n      <td>7150</td>\n      <td>...</td>\n      <td>33087</td>\n      <td>NaN</td>\n      <td>NaN</td>\n      <td>NaN</td>\n      <td>NaN</td>\n      <td>NaN</td>\n      <td>NaN</td>\n      <td>NaN</td>\n      <td>NaN</td>\n      <td>691904.0</td>\n    </tr>\n    <tr>\n      <th>Indonesia</th>\n      <td>Asia</td>\n      <td>South-Eastern Asia</td>\n      <td>Developing regions</td>\n      <td>186</td>\n      <td>178</td>\n      <td>252</td>\n      <td>115</td>\n      <td>123</td>\n      <td>100</td>\n      <td>127</td>\n      <td>...</td>\n      <td>387</td>\n      <td>NaN</td>\n      <td>NaN</td>\n      <td>NaN</td>\n      <td>NaN</td>\n      <td>NaN</td>\n      <td>NaN</td>\n      <td>NaN</td>\n      <td>NaN</td>\n      <td>13150.0</td>\n    </tr>\n    <tr>\n      <th>Iran (Islamic Republic of)</th>\n      <td>Asia</td>\n      <td>Southern Asia</td>\n      <td>Developing regions</td>\n      <td>1172</td>\n      <td>1429</td>\n      <td>1822</td>\n      <td>1592</td>\n      <td>1977</td>\n      <td>1648</td>\n      <td>1794</td>\n      <td>...</td>\n      <td>11291</td>\n      <td>NaN</td>\n      <td>NaN</td>\n      <td>NaN</td>\n      <td>NaN</td>\n      <td>NaN</td>\n      <td>NaN</td>\n      <td>NaN</td>\n      <td>NaN</td>\n      <td>175923.0</td>\n    </tr>\n    <tr>\n      <th>Iraq</th>\n      <td>Asia</td>\n      <td>Western Asia</td>\n      <td>Developing regions</td>\n      <td>262</td>\n      <td>245</td>\n      <td>260</td>\n      <td>380</td>\n      <td>428</td>\n      <td>231</td>\n      <td>265</td>\n      <td>...</td>\n      <td>4918</td>\n      <td>NaN</td>\n      <td>NaN</td>\n      <td>NaN</td>\n      <td>NaN</td>\n      <td>NaN</td>\n      <td>NaN</td>\n      <td>NaN</td>\n      <td>NaN</td>\n      <td>69789.0</td>\n    </tr>\n    <tr>\n      <th>Israel</th>\n      <td>Asia</td>\n      <td>Western Asia</td>\n      <td>Developing regions</td>\n      <td>1403</td>\n      <td>1711</td>\n      <td>1334</td>\n      <td>541</td>\n      <td>446</td>\n      <td>680</td>\n      <td>1212</td>\n      <td>...</td>\n      <td>1945</td>\n      <td>NaN</td>\n      <td>NaN</td>\n      <td>NaN</td>\n      <td>NaN</td>\n      <td>NaN</td>\n      <td>NaN</td>\n      <td>NaN</td>\n      <td>NaN</td>\n      <td>66508.0</td>\n    </tr>\n    <tr>\n      <th>Japan</th>\n      <td>Asia</td>\n      <td>Eastern Asia</td>\n      <td>Developed regions</td>\n      <td>701</td>\n      <td>756</td>\n      <td>598</td>\n      <td>309</td>\n      <td>246</td>\n      <td>198</td>\n      <td>248</td>\n      <td>...</td>\n      <td>982</td>\n      <td>NaN</td>\n      <td>NaN</td>\n      <td>NaN</td>\n      <td>NaN</td>\n      <td>NaN</td>\n      <td>NaN</td>\n      <td>NaN</td>\n      <td>NaN</td>\n      <td>27707.0</td>\n    </tr>\n    <tr>\n      <th>Jordan</th>\n      <td>Asia</td>\n      <td>Western Asia</td>\n      <td>Developing regions</td>\n      <td>177</td>\n      <td>160</td>\n      <td>155</td>\n      <td>113</td>\n      <td>102</td>\n      <td>179</td>\n      <td>181</td>\n      <td>...</td>\n      <td>1255</td>\n      <td>NaN</td>\n      <td>NaN</td>\n      <td>NaN</td>\n      <td>NaN</td>\n      <td>NaN</td>\n      <td>NaN</td>\n      <td>NaN</td>\n      <td>NaN</td>\n      <td>35406.0</td>\n    </tr>\n    <tr>\n      <th>Kazakhstan</th>\n      <td>Asia</td>\n      <td>Central Asia</td>\n      <td>Developing regions</td>\n      <td>0</td>\n      <td>0</td>\n      <td>0</td>\n      <td>0</td>\n      <td>0</td>\n      <td>0</td>\n      <td>0</td>\n      <td>...</td>\n      <td>348</td>\n      <td>NaN</td>\n      <td>NaN</td>\n      <td>NaN</td>\n      <td>NaN</td>\n      <td>NaN</td>\n      <td>NaN</td>\n      <td>NaN</td>\n      <td>NaN</td>\n      <td>8490.0</td>\n    </tr>\n    <tr>\n      <th>Kuwait</th>\n      <td>Asia</td>\n      <td>Western Asia</td>\n      <td>Developing regions</td>\n      <td>1</td>\n      <td>0</td>\n      <td>8</td>\n      <td>2</td>\n      <td>1</td>\n      <td>4</td>\n      <td>4</td>\n      <td>...</td>\n      <td>48</td>\n      <td>NaN</td>\n      <td>NaN</td>\n      <td>NaN</td>\n      <td>NaN</td>\n      <td>NaN</td>\n      <td>NaN</td>\n      <td>NaN</td>\n      <td>NaN</td>\n      <td>2025.0</td>\n    </tr>\n    <tr>\n      <th>Kyrgyzstan</th>\n      <td>Asia</td>\n      <td>Central Asia</td>\n      <td>Developing regions</td>\n      <td>0</td>\n      <td>0</td>\n      <td>0</td>\n      <td>0</td>\n      <td>0</td>\n      <td>0</td>\n      <td>0</td>\n      <td>...</td>\n      <td>123</td>\n      <td>NaN</td>\n      <td>NaN</td>\n      <td>NaN</td>\n      <td>NaN</td>\n      <td>NaN</td>\n      <td>NaN</td>\n      <td>NaN</td>\n      <td>NaN</td>\n      <td>2353.0</td>\n    </tr>\n    <tr>\n      <th>Lao People's Democratic Republic</th>\n      <td>Asia</td>\n      <td>South-Eastern Asia</td>\n      <td>Developing regions</td>\n      <td>11</td>\n      <td>6</td>\n      <td>16</td>\n      <td>16</td>\n      <td>7</td>\n      <td>17</td>\n      <td>21</td>\n      <td>...</td>\n      <td>15</td>\n      <td>NaN</td>\n      <td>NaN</td>\n      <td>NaN</td>\n      <td>NaN</td>\n      <td>NaN</td>\n      <td>NaN</td>\n      <td>NaN</td>\n      <td>NaN</td>\n      <td>1089.0</td>\n    </tr>\n    <tr>\n      <th>Lebanon</th>\n      <td>Asia</td>\n      <td>Western Asia</td>\n      <td>Developing regions</td>\n      <td>1409</td>\n      <td>1119</td>\n      <td>1159</td>\n      <td>789</td>\n      <td>1253</td>\n      <td>1683</td>\n      <td>2576</td>\n      <td>...</td>\n      <td>2172</td>\n      <td>NaN</td>\n      <td>NaN</td>\n      <td>NaN</td>\n      <td>NaN</td>\n      <td>NaN</td>\n      <td>NaN</td>\n      <td>NaN</td>\n      <td>NaN</td>\n      <td>115359.0</td>\n    </tr>\n    <tr>\n      <th>Malaysia</th>\n      <td>Asia</td>\n      <td>South-Eastern Asia</td>\n      <td>Developing regions</td>\n      <td>786</td>\n      <td>816</td>\n      <td>813</td>\n      <td>448</td>\n      <td>384</td>\n      <td>374</td>\n      <td>425</td>\n      <td>...</td>\n      <td>204</td>\n      <td>NaN</td>\n      <td>NaN</td>\n      <td>NaN</td>\n      <td>NaN</td>\n      <td>NaN</td>\n      <td>NaN</td>\n      <td>NaN</td>\n      <td>NaN</td>\n      <td>24417.0</td>\n    </tr>\n    <tr>\n      <th>Maldives</th>\n      <td>Asia</td>\n      <td>Southern Asia</td>\n      <td>Developing regions</td>\n      <td>0</td>\n      <td>0</td>\n      <td>0</td>\n      <td>1</td>\n      <td>0</td>\n      <td>0</td>\n      <td>0</td>\n      <td>...</td>\n      <td>1</td>\n      <td>NaN</td>\n      <td>NaN</td>\n      <td>NaN</td>\n      <td>NaN</td>\n      <td>NaN</td>\n      <td>NaN</td>\n      <td>NaN</td>\n      <td>NaN</td>\n      <td>30.0</td>\n    </tr>\n    <tr>\n      <th>Mongolia</th>\n      <td>Asia</td>\n      <td>Eastern Asia</td>\n      <td>Developing regions</td>\n      <td>0</td>\n      <td>0</td>\n      <td>0</td>\n      <td>0</td>\n      <td>0</td>\n      <td>0</td>\n      <td>0</td>\n      <td>...</td>\n      <td>99</td>\n      <td>NaN</td>\n      <td>NaN</td>\n      <td>NaN</td>\n      <td>NaN</td>\n      <td>NaN</td>\n      <td>NaN</td>\n      <td>NaN</td>\n      <td>NaN</td>\n      <td>952.0</td>\n    </tr>\n    <tr>\n      <th>Myanmar</th>\n      <td>Asia</td>\n      <td>South-Eastern Asia</td>\n      <td>Developing regions</td>\n      <td>80</td>\n      <td>62</td>\n      <td>46</td>\n      <td>31</td>\n      <td>41</td>\n      <td>23</td>\n      <td>18</td>\n      <td>...</td>\n      <td>262</td>\n      <td>NaN</td>\n      <td>NaN</td>\n      <td>NaN</td>\n      <td>NaN</td>\n      <td>NaN</td>\n      <td>NaN</td>\n      <td>NaN</td>\n      <td>NaN</td>\n      <td>9245.0</td>\n    </tr>\n    <tr>\n      <th>Nepal</th>\n      <td>Asia</td>\n      <td>Southern Asia</td>\n      <td>Developing regions</td>\n      <td>1</td>\n      <td>1</td>\n      <td>6</td>\n      <td>1</td>\n      <td>2</td>\n      <td>4</td>\n      <td>13</td>\n      <td>...</td>\n      <td>1308</td>\n      <td>NaN</td>\n      <td>NaN</td>\n      <td>NaN</td>\n      <td>NaN</td>\n      <td>NaN</td>\n      <td>NaN</td>\n      <td>NaN</td>\n      <td>NaN</td>\n      <td>10222.0</td>\n    </tr>\n    <tr>\n      <th>Oman</th>\n      <td>Asia</td>\n      <td>Western Asia</td>\n      <td>Developing regions</td>\n      <td>0</td>\n      <td>0</td>\n      <td>0</td>\n      <td>8</td>\n      <td>0</td>\n      <td>0</td>\n      <td>0</td>\n      <td>...</td>\n      <td>11</td>\n      <td>NaN</td>\n      <td>NaN</td>\n      <td>NaN</td>\n      <td>NaN</td>\n      <td>NaN</td>\n      <td>NaN</td>\n      <td>NaN</td>\n      <td>NaN</td>\n      <td>224.0</td>\n    </tr>\n    <tr>\n      <th>Pakistan</th>\n      <td>Asia</td>\n      <td>Southern Asia</td>\n      <td>Developing regions</td>\n      <td>978</td>\n      <td>972</td>\n      <td>1201</td>\n      <td>900</td>\n      <td>668</td>\n      <td>514</td>\n      <td>691</td>\n      <td>...</td>\n      <td>12603</td>\n      <td>NaN</td>\n      <td>NaN</td>\n      <td>NaN</td>\n      <td>NaN</td>\n      <td>NaN</td>\n      <td>NaN</td>\n      <td>NaN</td>\n      <td>NaN</td>\n      <td>241600.0</td>\n    </tr>\n    <tr>\n      <th>Philippines</th>\n      <td>Asia</td>\n      <td>South-Eastern Asia</td>\n      <td>Developing regions</td>\n      <td>6051</td>\n      <td>5921</td>\n      <td>5249</td>\n      <td>4562</td>\n      <td>3801</td>\n      <td>3150</td>\n      <td>4166</td>\n      <td>...</td>\n      <td>29544</td>\n      <td>NaN</td>\n      <td>NaN</td>\n      <td>NaN</td>\n      <td>NaN</td>\n      <td>NaN</td>\n      <td>NaN</td>\n      <td>NaN</td>\n      <td>NaN</td>\n      <td>511391.0</td>\n    </tr>\n    <tr>\n      <th>Qatar</th>\n      <td>Asia</td>\n      <td>Western Asia</td>\n      <td>Developing regions</td>\n      <td>0</td>\n      <td>0</td>\n      <td>0</td>\n      <td>0</td>\n      <td>0</td>\n      <td>0</td>\n      <td>1</td>\n      <td>...</td>\n      <td>6</td>\n      <td>NaN</td>\n      <td>NaN</td>\n      <td>NaN</td>\n      <td>NaN</td>\n      <td>NaN</td>\n      <td>NaN</td>\n      <td>NaN</td>\n      <td>NaN</td>\n      <td>157.0</td>\n    </tr>\n    <tr>\n      <th>Republic of Korea</th>\n      <td>Asia</td>\n      <td>Eastern Asia</td>\n      <td>Developing regions</td>\n      <td>1011</td>\n      <td>1456</td>\n      <td>1572</td>\n      <td>1081</td>\n      <td>847</td>\n      <td>962</td>\n      <td>1208</td>\n      <td>...</td>\n      <td>4509</td>\n      <td>NaN</td>\n      <td>NaN</td>\n      <td>NaN</td>\n      <td>NaN</td>\n      <td>NaN</td>\n      <td>NaN</td>\n      <td>NaN</td>\n      <td>NaN</td>\n      <td>142581.0</td>\n    </tr>\n    <tr>\n      <th>Saudi Arabia</th>\n      <td>Asia</td>\n      <td>Western Asia</td>\n      <td>Developing regions</td>\n      <td>0</td>\n      <td>0</td>\n      <td>1</td>\n      <td>4</td>\n      <td>1</td>\n      <td>2</td>\n      <td>5</td>\n      <td>...</td>\n      <td>267</td>\n      <td>NaN</td>\n      <td>NaN</td>\n      <td>NaN</td>\n      <td>NaN</td>\n      <td>NaN</td>\n      <td>NaN</td>\n      <td>NaN</td>\n      <td>NaN</td>\n      <td>3425.0</td>\n    </tr>\n    <tr>\n      <th>Singapore</th>\n      <td>Asia</td>\n      <td>South-Eastern Asia</td>\n      <td>Developing regions</td>\n      <td>241</td>\n      <td>301</td>\n      <td>337</td>\n      <td>169</td>\n      <td>128</td>\n      <td>139</td>\n      <td>205</td>\n      <td>...</td>\n      <td>141</td>\n      <td>NaN</td>\n      <td>NaN</td>\n      <td>NaN</td>\n      <td>NaN</td>\n      <td>NaN</td>\n      <td>NaN</td>\n      <td>NaN</td>\n      <td>NaN</td>\n      <td>14579.0</td>\n    </tr>\n    <tr>\n      <th>Sri Lanka</th>\n      <td>Asia</td>\n      <td>Southern Asia</td>\n      <td>Developing regions</td>\n      <td>185</td>\n      <td>371</td>\n      <td>290</td>\n      <td>197</td>\n      <td>1086</td>\n      <td>845</td>\n      <td>1838</td>\n      <td>...</td>\n      <td>2394</td>\n      <td>NaN</td>\n      <td>NaN</td>\n      <td>NaN</td>\n      <td>NaN</td>\n      <td>NaN</td>\n      <td>NaN</td>\n      <td>NaN</td>\n      <td>NaN</td>\n      <td>148358.0</td>\n    </tr>\n    <tr>\n      <th>State of Palestine</th>\n      <td>Asia</td>\n      <td>Western Asia</td>\n      <td>Developing regions</td>\n      <td>0</td>\n      <td>0</td>\n      <td>0</td>\n      <td>0</td>\n      <td>0</td>\n      <td>0</td>\n      <td>0</td>\n      <td>...</td>\n      <td>462</td>\n      <td>NaN</td>\n      <td>NaN</td>\n      <td>NaN</td>\n      <td>NaN</td>\n      <td>NaN</td>\n      <td>NaN</td>\n      <td>NaN</td>\n      <td>NaN</td>\n      <td>6512.0</td>\n    </tr>\n    <tr>\n      <th>Syrian Arab Republic</th>\n      <td>Asia</td>\n      <td>Western Asia</td>\n      <td>Developing regions</td>\n      <td>315</td>\n      <td>419</td>\n      <td>409</td>\n      <td>269</td>\n      <td>264</td>\n      <td>385</td>\n      <td>493</td>\n      <td>...</td>\n      <td>1009</td>\n      <td>NaN</td>\n      <td>NaN</td>\n      <td>NaN</td>\n      <td>NaN</td>\n      <td>NaN</td>\n      <td>NaN</td>\n      <td>NaN</td>\n      <td>NaN</td>\n      <td>31485.0</td>\n    </tr>\n    <tr>\n      <th>Tajikistan</th>\n      <td>Asia</td>\n      <td>Central Asia</td>\n      <td>Developing regions</td>\n      <td>0</td>\n      <td>0</td>\n      <td>0</td>\n      <td>0</td>\n      <td>0</td>\n      <td>0</td>\n      <td>0</td>\n      <td>...</td>\n      <td>39</td>\n      <td>NaN</td>\n      <td>NaN</td>\n      <td>NaN</td>\n      <td>NaN</td>\n      <td>NaN</td>\n      <td>NaN</td>\n      <td>NaN</td>\n      <td>NaN</td>\n      <td>503.0</td>\n    </tr>\n    <tr>\n      <th>Thailand</th>\n      <td>Asia</td>\n      <td>South-Eastern Asia</td>\n      <td>Developing regions</td>\n      <td>56</td>\n      <td>53</td>\n      <td>113</td>\n      <td>65</td>\n      <td>82</td>\n      <td>66</td>\n      <td>78</td>\n      <td>...</td>\n      <td>400</td>\n      <td>NaN</td>\n      <td>NaN</td>\n      <td>NaN</td>\n      <td>NaN</td>\n      <td>NaN</td>\n      <td>NaN</td>\n      <td>NaN</td>\n      <td>NaN</td>\n      <td>9174.0</td>\n    </tr>\n    <tr>\n      <th>Turkey</th>\n      <td>Asia</td>\n      <td>Western Asia</td>\n      <td>Developing regions</td>\n      <td>481</td>\n      <td>874</td>\n      <td>706</td>\n      <td>280</td>\n      <td>338</td>\n      <td>202</td>\n      <td>257</td>\n      <td>...</td>\n      <td>729</td>\n      <td>NaN</td>\n      <td>NaN</td>\n      <td>NaN</td>\n      <td>NaN</td>\n      <td>NaN</td>\n      <td>NaN</td>\n      <td>NaN</td>\n      <td>NaN</td>\n      <td>31781.0</td>\n    </tr>\n    <tr>\n      <th>Turkmenistan</th>\n      <td>Asia</td>\n      <td>Central Asia</td>\n      <td>Developing regions</td>\n      <td>0</td>\n      <td>0</td>\n      <td>0</td>\n      <td>0</td>\n      <td>0</td>\n      <td>0</td>\n      <td>0</td>\n      <td>...</td>\n      <td>14</td>\n      <td>NaN</td>\n      <td>NaN</td>\n      <td>NaN</td>\n      <td>NaN</td>\n      <td>NaN</td>\n      <td>NaN</td>\n      <td>NaN</td>\n      <td>NaN</td>\n      <td>310.0</td>\n    </tr>\n    <tr>\n      <th>United Arab Emirates</th>\n      <td>Asia</td>\n      <td>Western Asia</td>\n      <td>Developing regions</td>\n      <td>0</td>\n      <td>2</td>\n      <td>2</td>\n      <td>1</td>\n      <td>2</td>\n      <td>0</td>\n      <td>5</td>\n      <td>...</td>\n      <td>46</td>\n      <td>NaN</td>\n      <td>NaN</td>\n      <td>NaN</td>\n      <td>NaN</td>\n      <td>NaN</td>\n      <td>NaN</td>\n      <td>NaN</td>\n      <td>NaN</td>\n      <td>836.0</td>\n    </tr>\n    <tr>\n      <th>Uzbekistan</th>\n      <td>Asia</td>\n      <td>Central Asia</td>\n      <td>Developing regions</td>\n      <td>0</td>\n      <td>0</td>\n      <td>0</td>\n      <td>0</td>\n      <td>0</td>\n      <td>0</td>\n      <td>0</td>\n      <td>...</td>\n      <td>167</td>\n      <td>NaN</td>\n      <td>NaN</td>\n      <td>NaN</td>\n      <td>NaN</td>\n      <td>NaN</td>\n      <td>NaN</td>\n      <td>NaN</td>\n      <td>NaN</td>\n      <td>3368.0</td>\n    </tr>\n    <tr>\n      <th>Viet Nam</th>\n      <td>Asia</td>\n      <td>South-Eastern Asia</td>\n      <td>Developing regions</td>\n      <td>1191</td>\n      <td>1829</td>\n      <td>2162</td>\n      <td>3404</td>\n      <td>7583</td>\n      <td>5907</td>\n      <td>2741</td>\n      <td>...</td>\n      <td>2112</td>\n      <td>NaN</td>\n      <td>NaN</td>\n      <td>NaN</td>\n      <td>NaN</td>\n      <td>NaN</td>\n      <td>NaN</td>\n      <td>NaN</td>\n      <td>NaN</td>\n      <td>97146.0</td>\n    </tr>\n    <tr>\n      <th>Yemen</th>\n      <td>Asia</td>\n      <td>Western Asia</td>\n      <td>Developing regions</td>\n      <td>1</td>\n      <td>2</td>\n      <td>1</td>\n      <td>6</td>\n      <td>0</td>\n      <td>18</td>\n      <td>7</td>\n      <td>...</td>\n      <td>217</td>\n      <td>NaN</td>\n      <td>NaN</td>\n      <td>NaN</td>\n      <td>NaN</td>\n      <td>NaN</td>\n      <td>NaN</td>\n      <td>NaN</td>\n      <td>NaN</td>\n      <td>2985.0</td>\n    </tr>\n  </tbody>\n</table>\n<p>49 rows × 46 columns</p>\n</div>"
     },
     "execution_count": 34,
     "metadata": {},
     "output_type": "execute_result"
    }
   ],
   "source": [
    "# 2. pass this condition into the dataFrame\n",
    "df_can[condition]"
   ]
  },
  {
   "cell_type": "code",
   "execution_count": 35,
   "metadata": {
    "button": false,
    "new_sheet": false,
    "run_control": {
     "read_only": false
    }
   },
   "outputs": [
    {
     "data": {
      "text/plain": "                           Continent         Region             DevName  1980  \\\nAfghanistan                     Asia  Southern Asia  Developing regions    16   \nBangladesh                      Asia  Southern Asia  Developing regions    83   \nBhutan                          Asia  Southern Asia  Developing regions     0   \nIndia                           Asia  Southern Asia  Developing regions  8880   \nIran (Islamic Republic of)      Asia  Southern Asia  Developing regions  1172   \nMaldives                        Asia  Southern Asia  Developing regions     0   \nNepal                           Asia  Southern Asia  Developing regions     1   \nPakistan                        Asia  Southern Asia  Developing regions   978   \nSri Lanka                       Asia  Southern Asia  Developing regions   185   \n\n                            1981  1982  1983  1984  1985  1986  ...   2013  \\\nAfghanistan                   39    39    47    71   340   496  ...   2004   \nBangladesh                    84    86    81    98    92   486  ...   3789   \nBhutan                         0     0     0     1     0     0  ...    487   \nIndia                       8670  8147  7338  5704  4211  7150  ...  33087   \nIran (Islamic Republic of)  1429  1822  1592  1977  1648  1794  ...  11291   \nMaldives                       0     0     1     0     0     0  ...      1   \nNepal                          1     6     1     2     4    13  ...   1308   \nPakistan                     972  1201   900   668   514   691  ...  12603   \nSri Lanka                    371   290   197  1086   845  1838  ...   2394   \n\n                            Unnamed: 43  Unnamed: 44  Unnamed: 45  \\\nAfghanistan                         NaN          NaN          NaN   \nBangladesh                          NaN          NaN          NaN   \nBhutan                              NaN          NaN          NaN   \nIndia                               NaN          NaN          NaN   \nIran (Islamic Republic of)          NaN          NaN          NaN   \nMaldives                            NaN          NaN          NaN   \nNepal                               NaN          NaN          NaN   \nPakistan                            NaN          NaN          NaN   \nSri Lanka                           NaN          NaN          NaN   \n\n                            Unnamed: 46  Unnamed: 47  Unnamed: 48  \\\nAfghanistan                         NaN          NaN          NaN   \nBangladesh                          NaN          NaN          NaN   \nBhutan                              NaN          NaN          NaN   \nIndia                               NaN          NaN          NaN   \nIran (Islamic Republic of)          NaN          NaN          NaN   \nMaldives                            NaN          NaN          NaN   \nNepal                               NaN          NaN          NaN   \nPakistan                            NaN          NaN          NaN   \nSri Lanka                           NaN          NaN          NaN   \n\n                            Unnamed: 49  Unnamed: 50     Total  \nAfghanistan                         NaN          NaN   58639.0  \nBangladesh                          NaN          NaN   65568.0  \nBhutan                              NaN          NaN    5876.0  \nIndia                               NaN          NaN  691904.0  \nIran (Islamic Republic of)          NaN          NaN  175923.0  \nMaldives                            NaN          NaN      30.0  \nNepal                               NaN          NaN   10222.0  \nPakistan                            NaN          NaN  241600.0  \nSri Lanka                           NaN          NaN  148358.0  \n\n[9 rows x 46 columns]",
      "text/html": "<div>\n<style scoped>\n    .dataframe tbody tr th:only-of-type {\n        vertical-align: middle;\n    }\n\n    .dataframe tbody tr th {\n        vertical-align: top;\n    }\n\n    .dataframe thead th {\n        text-align: right;\n    }\n</style>\n<table border=\"1\" class=\"dataframe\">\n  <thead>\n    <tr style=\"text-align: right;\">\n      <th></th>\n      <th>Continent</th>\n      <th>Region</th>\n      <th>DevName</th>\n      <th>1980</th>\n      <th>1981</th>\n      <th>1982</th>\n      <th>1983</th>\n      <th>1984</th>\n      <th>1985</th>\n      <th>1986</th>\n      <th>...</th>\n      <th>2013</th>\n      <th>Unnamed: 43</th>\n      <th>Unnamed: 44</th>\n      <th>Unnamed: 45</th>\n      <th>Unnamed: 46</th>\n      <th>Unnamed: 47</th>\n      <th>Unnamed: 48</th>\n      <th>Unnamed: 49</th>\n      <th>Unnamed: 50</th>\n      <th>Total</th>\n    </tr>\n  </thead>\n  <tbody>\n    <tr>\n      <th>Afghanistan</th>\n      <td>Asia</td>\n      <td>Southern Asia</td>\n      <td>Developing regions</td>\n      <td>16</td>\n      <td>39</td>\n      <td>39</td>\n      <td>47</td>\n      <td>71</td>\n      <td>340</td>\n      <td>496</td>\n      <td>...</td>\n      <td>2004</td>\n      <td>NaN</td>\n      <td>NaN</td>\n      <td>NaN</td>\n      <td>NaN</td>\n      <td>NaN</td>\n      <td>NaN</td>\n      <td>NaN</td>\n      <td>NaN</td>\n      <td>58639.0</td>\n    </tr>\n    <tr>\n      <th>Bangladesh</th>\n      <td>Asia</td>\n      <td>Southern Asia</td>\n      <td>Developing regions</td>\n      <td>83</td>\n      <td>84</td>\n      <td>86</td>\n      <td>81</td>\n      <td>98</td>\n      <td>92</td>\n      <td>486</td>\n      <td>...</td>\n      <td>3789</td>\n      <td>NaN</td>\n      <td>NaN</td>\n      <td>NaN</td>\n      <td>NaN</td>\n      <td>NaN</td>\n      <td>NaN</td>\n      <td>NaN</td>\n      <td>NaN</td>\n      <td>65568.0</td>\n    </tr>\n    <tr>\n      <th>Bhutan</th>\n      <td>Asia</td>\n      <td>Southern Asia</td>\n      <td>Developing regions</td>\n      <td>0</td>\n      <td>0</td>\n      <td>0</td>\n      <td>0</td>\n      <td>1</td>\n      <td>0</td>\n      <td>0</td>\n      <td>...</td>\n      <td>487</td>\n      <td>NaN</td>\n      <td>NaN</td>\n      <td>NaN</td>\n      <td>NaN</td>\n      <td>NaN</td>\n      <td>NaN</td>\n      <td>NaN</td>\n      <td>NaN</td>\n      <td>5876.0</td>\n    </tr>\n    <tr>\n      <th>India</th>\n      <td>Asia</td>\n      <td>Southern Asia</td>\n      <td>Developing regions</td>\n      <td>8880</td>\n      <td>8670</td>\n      <td>8147</td>\n      <td>7338</td>\n      <td>5704</td>\n      <td>4211</td>\n      <td>7150</td>\n      <td>...</td>\n      <td>33087</td>\n      <td>NaN</td>\n      <td>NaN</td>\n      <td>NaN</td>\n      <td>NaN</td>\n      <td>NaN</td>\n      <td>NaN</td>\n      <td>NaN</td>\n      <td>NaN</td>\n      <td>691904.0</td>\n    </tr>\n    <tr>\n      <th>Iran (Islamic Republic of)</th>\n      <td>Asia</td>\n      <td>Southern Asia</td>\n      <td>Developing regions</td>\n      <td>1172</td>\n      <td>1429</td>\n      <td>1822</td>\n      <td>1592</td>\n      <td>1977</td>\n      <td>1648</td>\n      <td>1794</td>\n      <td>...</td>\n      <td>11291</td>\n      <td>NaN</td>\n      <td>NaN</td>\n      <td>NaN</td>\n      <td>NaN</td>\n      <td>NaN</td>\n      <td>NaN</td>\n      <td>NaN</td>\n      <td>NaN</td>\n      <td>175923.0</td>\n    </tr>\n    <tr>\n      <th>Maldives</th>\n      <td>Asia</td>\n      <td>Southern Asia</td>\n      <td>Developing regions</td>\n      <td>0</td>\n      <td>0</td>\n      <td>0</td>\n      <td>1</td>\n      <td>0</td>\n      <td>0</td>\n      <td>0</td>\n      <td>...</td>\n      <td>1</td>\n      <td>NaN</td>\n      <td>NaN</td>\n      <td>NaN</td>\n      <td>NaN</td>\n      <td>NaN</td>\n      <td>NaN</td>\n      <td>NaN</td>\n      <td>NaN</td>\n      <td>30.0</td>\n    </tr>\n    <tr>\n      <th>Nepal</th>\n      <td>Asia</td>\n      <td>Southern Asia</td>\n      <td>Developing regions</td>\n      <td>1</td>\n      <td>1</td>\n      <td>6</td>\n      <td>1</td>\n      <td>2</td>\n      <td>4</td>\n      <td>13</td>\n      <td>...</td>\n      <td>1308</td>\n      <td>NaN</td>\n      <td>NaN</td>\n      <td>NaN</td>\n      <td>NaN</td>\n      <td>NaN</td>\n      <td>NaN</td>\n      <td>NaN</td>\n      <td>NaN</td>\n      <td>10222.0</td>\n    </tr>\n    <tr>\n      <th>Pakistan</th>\n      <td>Asia</td>\n      <td>Southern Asia</td>\n      <td>Developing regions</td>\n      <td>978</td>\n      <td>972</td>\n      <td>1201</td>\n      <td>900</td>\n      <td>668</td>\n      <td>514</td>\n      <td>691</td>\n      <td>...</td>\n      <td>12603</td>\n      <td>NaN</td>\n      <td>NaN</td>\n      <td>NaN</td>\n      <td>NaN</td>\n      <td>NaN</td>\n      <td>NaN</td>\n      <td>NaN</td>\n      <td>NaN</td>\n      <td>241600.0</td>\n    </tr>\n    <tr>\n      <th>Sri Lanka</th>\n      <td>Asia</td>\n      <td>Southern Asia</td>\n      <td>Developing regions</td>\n      <td>185</td>\n      <td>371</td>\n      <td>290</td>\n      <td>197</td>\n      <td>1086</td>\n      <td>845</td>\n      <td>1838</td>\n      <td>...</td>\n      <td>2394</td>\n      <td>NaN</td>\n      <td>NaN</td>\n      <td>NaN</td>\n      <td>NaN</td>\n      <td>NaN</td>\n      <td>NaN</td>\n      <td>NaN</td>\n      <td>NaN</td>\n      <td>148358.0</td>\n    </tr>\n  </tbody>\n</table>\n<p>9 rows × 46 columns</p>\n</div>"
     },
     "execution_count": 35,
     "metadata": {},
     "output_type": "execute_result"
    }
   ],
   "source": [
    "# we can pass multiple criteria in the same line.\n",
    "# let's filter for AreaNAme = Asia and RegName = Southern Asia\n",
    "\n",
    "df_can[(df_can['Continent']=='Asia') & (df_can['Region']=='Southern Asia')]\n",
    "\n",
    "# note: When using 'and' and 'or' operators, pandas requires we use '&' and '|' instead of 'and' and 'or'\n",
    "# don't forget to enclose the two conditions in parentheses"
   ]
  },
  {
   "cell_type": "markdown",
   "metadata": {
    "button": false,
    "new_sheet": false,
    "run_control": {
     "read_only": false
    }
   },
   "source": [
    "Before we proceed: let's review the changes we have made to our dataframe.\n"
   ]
  },
  {
   "cell_type": "code",
   "execution_count": 36,
   "metadata": {
    "button": false,
    "new_sheet": false,
    "run_control": {
     "read_only": false
    },
    "scrolled": true
   },
   "outputs": [
    {
     "name": "stdout",
     "output_type": "stream",
     "text": [
      "data dimensions: (195, 46)\n",
      "Index(['Continent', 'Region', 'DevName', '1980', '1981', '1982', '1983',\n",
      "       '1984', '1985', '1986', '1987', '1988', '1989', '1990', '1991', '1992',\n",
      "       '1993', '1994', '1995', '1996', '1997', '1998', '1999', '2000', '2001',\n",
      "       '2002', '2003', '2004', '2005', '2006', '2007', '2008', '2009', '2010',\n",
      "       '2011', '2012', '2013', 'Unnamed: 43', 'Unnamed: 44', 'Unnamed: 45',\n",
      "       'Unnamed: 46', 'Unnamed: 47', 'Unnamed: 48', 'Unnamed: 49',\n",
      "       'Unnamed: 50', 'Total'],\n",
      "      dtype='object')\n"
     ]
    },
    {
     "data": {
      "text/plain": "            Continent           Region             DevName  1980  1981  1982  \\\nAfghanistan      Asia    Southern Asia  Developing regions    16    39    39   \nAlbania        Europe  Southern Europe   Developed regions     1     0     0   \n\n             1983  1984  1985  1986  ...  2013  Unnamed: 43  Unnamed: 44  \\\nAfghanistan    47    71   340   496  ...  2004          NaN          NaN   \nAlbania         0     0     0     1  ...   603          NaN          NaN   \n\n             Unnamed: 45  Unnamed: 46  Unnamed: 47  Unnamed: 48  Unnamed: 49  \\\nAfghanistan          NaN          NaN          NaN          NaN          NaN   \nAlbania              NaN          NaN          NaN          NaN          NaN   \n\n             Unnamed: 50    Total  \nAfghanistan          NaN  58639.0  \nAlbania              NaN  15699.0  \n\n[2 rows x 46 columns]",
      "text/html": "<div>\n<style scoped>\n    .dataframe tbody tr th:only-of-type {\n        vertical-align: middle;\n    }\n\n    .dataframe tbody tr th {\n        vertical-align: top;\n    }\n\n    .dataframe thead th {\n        text-align: right;\n    }\n</style>\n<table border=\"1\" class=\"dataframe\">\n  <thead>\n    <tr style=\"text-align: right;\">\n      <th></th>\n      <th>Continent</th>\n      <th>Region</th>\n      <th>DevName</th>\n      <th>1980</th>\n      <th>1981</th>\n      <th>1982</th>\n      <th>1983</th>\n      <th>1984</th>\n      <th>1985</th>\n      <th>1986</th>\n      <th>...</th>\n      <th>2013</th>\n      <th>Unnamed: 43</th>\n      <th>Unnamed: 44</th>\n      <th>Unnamed: 45</th>\n      <th>Unnamed: 46</th>\n      <th>Unnamed: 47</th>\n      <th>Unnamed: 48</th>\n      <th>Unnamed: 49</th>\n      <th>Unnamed: 50</th>\n      <th>Total</th>\n    </tr>\n  </thead>\n  <tbody>\n    <tr>\n      <th>Afghanistan</th>\n      <td>Asia</td>\n      <td>Southern Asia</td>\n      <td>Developing regions</td>\n      <td>16</td>\n      <td>39</td>\n      <td>39</td>\n      <td>47</td>\n      <td>71</td>\n      <td>340</td>\n      <td>496</td>\n      <td>...</td>\n      <td>2004</td>\n      <td>NaN</td>\n      <td>NaN</td>\n      <td>NaN</td>\n      <td>NaN</td>\n      <td>NaN</td>\n      <td>NaN</td>\n      <td>NaN</td>\n      <td>NaN</td>\n      <td>58639.0</td>\n    </tr>\n    <tr>\n      <th>Albania</th>\n      <td>Europe</td>\n      <td>Southern Europe</td>\n      <td>Developed regions</td>\n      <td>1</td>\n      <td>0</td>\n      <td>0</td>\n      <td>0</td>\n      <td>0</td>\n      <td>0</td>\n      <td>1</td>\n      <td>...</td>\n      <td>603</td>\n      <td>NaN</td>\n      <td>NaN</td>\n      <td>NaN</td>\n      <td>NaN</td>\n      <td>NaN</td>\n      <td>NaN</td>\n      <td>NaN</td>\n      <td>NaN</td>\n      <td>15699.0</td>\n    </tr>\n  </tbody>\n</table>\n<p>2 rows × 46 columns</p>\n</div>"
     },
     "execution_count": 36,
     "metadata": {},
     "output_type": "execute_result"
    }
   ],
   "source": [
    "print('data dimensions:', df_can.shape)\n",
    "print(df_can.columns)\n",
    "df_can.head(2)"
   ]
  },
  {
   "cell_type": "markdown",
   "metadata": {
    "button": false,
    "new_sheet": false,
    "run_control": {
     "read_only": false
    }
   },
   "source": [
    "***\n",
    "\n",
    "# Visualizing Data using Matplotlib<a id=\"8\"></a>\n"
   ]
  },
  {
   "cell_type": "markdown",
   "metadata": {
    "button": false,
    "new_sheet": false,
    "run_control": {
     "read_only": false
    }
   },
   "source": [
    "## Matplotlib: Standard Python Visualization Library<a id=\"10\"></a>\n",
    "\n",
    "The primary plotting library we will explore in the course is [Matplotlib](http://matplotlib.org/?utm_medium=Exinfluencer&utm_source=Exinfluencer&utm_content=000026UJ&utm_term=10006555&utm_id=NA-SkillsNetwork-Channel-SkillsNetworkCoursesIBMDeveloperSkillsNetworkDV0101ENSkillsNetwork20297740-2021-01-01).  As mentioned on their website:\n",
    "\n",
    "> Matplotlib is a Python 2D plotting library which produces publication quality figures in a variety of hardcopy formats and interactive environments across platforms. Matplotlib can be used in Python scripts, the Python and IPython shell, the jupyter notebook, web application servers, and four graphical user interface toolkits.\n",
    "\n",
    "If you are aspiring to create impactful visualization with python, Matplotlib is an essential tool to have at your disposal.\n"
   ]
  },
  {
   "cell_type": "markdown",
   "metadata": {
    "button": false,
    "new_sheet": false,
    "run_control": {
     "read_only": false
    }
   },
   "source": [
    "### Matplotlib.Pyplot\n",
    "\n",
    "One of the core aspects of Matplotlib is `matplotlib.pyplot`. It is Matplotlib's scripting layer which we studied in details in the videos about Matplotlib. Recall that it is a collection of command style functions that make Matplotlib work like MATLAB. Each `pyplot` function makes some change to a figure: e.g., creates a figure, creates a plotting area in a figure, plots some lines in a plotting area, decorates the plot with labels, etc. In this lab, we will work with the scripting layer to learn how to generate line plots. In future labs, we will get to work with the Artist layer as well to experiment first hand how it differs from the scripting layer.\n"
   ]
  },
  {
   "cell_type": "markdown",
   "metadata": {
    "button": false,
    "new_sheet": false,
    "run_control": {
     "read_only": false
    }
   },
   "source": [
    "Let's start by importing `matplotlib` and `matplotlib.pyplot` as follows:\n"
   ]
  },
  {
   "cell_type": "code",
   "execution_count": 37,
   "metadata": {
    "button": false,
    "new_sheet": false,
    "run_control": {
     "read_only": false
    },
    "scrolled": false
   },
   "outputs": [],
   "source": [
    "# we are using the inline backend\n",
    "%matplotlib inline \n",
    "\n",
    "import matplotlib as mpl\n",
    "import matplotlib.pyplot as plt"
   ]
  },
  {
   "cell_type": "markdown",
   "metadata": {
    "button": false,
    "new_sheet": false,
    "run_control": {
     "read_only": false
    }
   },
   "source": [
    "\\*optional: check if Matplotlib is loaded.\n"
   ]
  },
  {
   "cell_type": "code",
   "execution_count": 38,
   "metadata": {
    "button": false,
    "new_sheet": false,
    "run_control": {
     "read_only": false
    },
    "scrolled": false
   },
   "outputs": [
    {
     "name": "stdout",
     "output_type": "stream",
     "text": [
      "Matplotlib version:  3.3.4\n"
     ]
    }
   ],
   "source": [
    "print('Matplotlib version: ', mpl.__version__)  # >= 2.0.0"
   ]
  },
  {
   "cell_type": "markdown",
   "metadata": {
    "button": false,
    "new_sheet": false,
    "run_control": {
     "read_only": false
    }
   },
   "source": [
    "\\*optional: apply a style to Matplotlib.\n"
   ]
  },
  {
   "cell_type": "code",
   "execution_count": 39,
   "metadata": {
    "button": false,
    "new_sheet": false,
    "run_control": {
     "read_only": false
    },
    "scrolled": false
   },
   "outputs": [
    {
     "name": "stdout",
     "output_type": "stream",
     "text": [
      "['Solarize_Light2', '_classic_test_patch', 'bmh', 'classic', 'dark_background', 'fast', 'fivethirtyeight', 'ggplot', 'grayscale', 'seaborn', 'seaborn-bright', 'seaborn-colorblind', 'seaborn-dark', 'seaborn-dark-palette', 'seaborn-darkgrid', 'seaborn-deep', 'seaborn-muted', 'seaborn-notebook', 'seaborn-paper', 'seaborn-pastel', 'seaborn-poster', 'seaborn-talk', 'seaborn-ticks', 'seaborn-white', 'seaborn-whitegrid', 'tableau-colorblind10']\n"
     ]
    }
   ],
   "source": [
    "print(plt.style.available)\n",
    "mpl.style.use(['ggplot']) # optional: for ggplot-like style"
   ]
  },
  {
   "cell_type": "markdown",
   "metadata": {
    "button": false,
    "new_sheet": false,
    "run_control": {
     "read_only": false
    }
   },
   "source": [
    "### Plotting in *pandas*\n",
    "\n",
    "Fortunately, pandas has a built-in implementation of Matplotlib that we can use. Plotting in *pandas* is as simple as appending a `.plot()` method to a series or dataframe.\n",
    "\n",
    "Documentation:\n",
    "\n",
    "*   [Plotting with Series](http://pandas.pydata.org/pandas-docs/stable/api.html?utm_medium=Exinfluencer&utm_source=Exinfluencer&utm_content=000026UJ&utm_term=10006555&utm_id=NA-SkillsNetwork-Channel-SkillsNetworkCoursesIBMDeveloperSkillsNetworkDV0101ENSkillsNetwork20297740-2021-01-01#plotting)<br>\n",
    "*   [Plotting with Dataframes](http://pandas.pydata.org/pandas-docs/stable/api.html?utm_medium=Exinfluencer&utm_source=Exinfluencer&utm_content=000026UJ&utm_term=10006555&utm_id=NA-SkillsNetwork-Channel-SkillsNetworkCoursesIBMDeveloperSkillsNetworkDV0101ENSkillsNetwork20297740-2021-01-01#api-dataframe-plotting)\n"
   ]
  },
  {
   "cell_type": "markdown",
   "metadata": {
    "button": false,
    "new_sheet": false,
    "run_control": {
     "read_only": false
    }
   },
   "source": [
    "# Line Pots (Series/Dataframe) <a id=\"12\"></a>\n"
   ]
  },
  {
   "cell_type": "markdown",
   "metadata": {
    "button": false,
    "new_sheet": false,
    "run_control": {
     "read_only": false
    }
   },
   "source": [
    "**What is a line plot and why use it?**\n",
    "\n",
    "A line chart or line plot is a type of plot which displays information as a series of data points called 'markers' connected by straight line segments. It is a basic type of chart common in many fields.\n",
    "Use line plot when you have a continuous data set. These are best suited for trend-based visualizations of data over a period of time.\n"
   ]
  },
  {
   "cell_type": "markdown",
   "metadata": {
    "button": false,
    "new_sheet": false,
    "run_control": {
     "read_only": false
    }
   },
   "source": [
    "**Let's start with a case study:**\n",
    "\n",
    "In 2010, Haiti suffered a catastrophic magnitude 7.0 earthquake. The quake caused widespread devastation and loss of life and aout three million people were affected by this natural disaster. As part of Canada's humanitarian effort, the Government of Canada stepped up its effort in accepting refugees from Haiti. We can quickly visualize this effort using a `Line` plot:\n",
    "\n",
    "**Question:** Plot a line graph of immigration from Haiti using `df.plot()`.\n"
   ]
  },
  {
   "cell_type": "markdown",
   "metadata": {
    "button": false,
    "new_sheet": false,
    "run_control": {
     "read_only": false
    }
   },
   "source": [
    "First, we will extract the data series for Haiti.\n"
   ]
  },
  {
   "cell_type": "code",
   "execution_count": 40,
   "metadata": {
    "button": false,
    "new_sheet": false,
    "run_control": {
     "read_only": false
    },
    "scrolled": false
   },
   "outputs": [
    {
     "data": {
      "text/plain": "1980    1666\n1981    3692\n1982    3498\n1983    2860\n1984    1418\nName: Haiti, dtype: object"
     },
     "execution_count": 40,
     "metadata": {},
     "output_type": "execute_result"
    }
   ],
   "source": [
    "haiti = df_can.loc['Haiti', years] # passing in years 1980 - 2013 to exclude the 'total' column\n",
    "haiti.head()"
   ]
  },
  {
   "cell_type": "markdown",
   "metadata": {
    "button": false,
    "new_sheet": false,
    "run_control": {
     "read_only": false
    }
   },
   "source": [
    "Next, we will plot a line plot by appending `.plot()` to the `haiti` dataframe.\n"
   ]
  },
  {
   "cell_type": "code",
   "execution_count": 41,
   "metadata": {
    "button": false,
    "new_sheet": false,
    "run_control": {
     "read_only": false
    },
    "scrolled": false
   },
   "outputs": [
    {
     "data": {
      "text/plain": "<AxesSubplot:>"
     },
     "execution_count": 41,
     "metadata": {},
     "output_type": "execute_result"
    },
    {
     "data": {
      "text/plain": "<Figure size 432x288 with 1 Axes>",
      "image/png": "[encoded data removed]"
     },
     "metadata": {},
     "output_type": "display_data"
    }
   ],
   "source": [
    "haiti.plot()"
   ]
  },
  {
   "cell_type": "markdown",
   "metadata": {
    "button": false,
    "new_sheet": false,
    "run_control": {
     "read_only": false
    }
   },
   "source": [
    "*pandas* automatically populated the x-axis with the index values (years), and the y-axis with the column values (population). However, notice how the years were not displayed because they are of type *string*. Therefore, let's change the type of the index values to *integer* for plotting.\n",
    "\n",
    "Also, let's label the x and y axis using `plt.title()`, `plt.ylabel()`, and `plt.xlabel()` as follows:\n"
   ]
  },
  {
   "cell_type": "code",
   "execution_count": 42,
   "metadata": {
    "button": false,
    "new_sheet": false,
    "run_control": {
     "read_only": false
    },
    "scrolled": true
   },
   "outputs": [
    {
     "data": {
      "text/plain": "<Figure size 432x288 with 1 Axes>",
      "image/png": "[encoded data removed]"
     },
     "metadata": {},
     "output_type": "display_data"
    }
   ],
   "source": [
    "haiti.index = haiti.index.map(int) # let's change the index values of Haiti to type integer for plotting\n",
    "haiti.plot(kind='line')\n",
    "\n",
    "plt.title('Immigration from Haiti')\n",
    "plt.ylabel('Number of immigrants')\n",
    "plt.xlabel('Years')\n",
    "\n",
    "plt.show() # need this line to show the updates made to the figure"
   ]
  },
  {
   "cell_type": "markdown",
   "metadata": {
    "button": false,
    "new_sheet": false,
    "run_control": {
     "read_only": false
    }
   },
   "source": [
    "We can clearly notice how number of immigrants from Haiti spiked up from 2010 as Canada stepped up its efforts to accept refugees from Haiti. Let's annotate this spike in the plot by using the `plt.text()` method.\n"
   ]
  },
  {
   "cell_type": "code",
   "execution_count": 43,
   "metadata": {
    "button": false,
    "new_sheet": false,
    "run_control": {
     "read_only": false
    }
   },
   "outputs": [
    {
     "data": {
      "text/plain": "<Figure size 432x288 with 1 Axes>",
      "image/png": "[encoded data removed]"
     },
     "metadata": {},
     "output_type": "display_data"
    }
   ],
   "source": [
    "haiti.plot(kind='line')\n",
    "\n",
    "plt.title('Immigration from Haiti')\n",
    "plt.ylabel('Number of Immigrants')\n",
    "plt.xlabel('Years')\n",
    "\n",
    "# annotate the 2010 Earthquake. \n",
    "# syntax: plt.text(x, y, label)\n",
    "plt.text(2000, 6000, '2010 Earthquake') # see note below\n",
    "\n",
    "plt.show() "
   ]
  },
  {
   "cell_type": "markdown",
   "metadata": {
    "button": false,
    "new_sheet": false,
    "run_control": {
     "read_only": false
    }
   },
   "source": [
    "With just a few lines of code, you were able to quickly identify and visualize the spike in immigration!\n",
    "\n",
    "Quick note on x and y values in `plt.text(x, y, label)`:\n",
    "\n",
    "```\n",
    " Since the x-axis (years) is type 'integer', we specified x as a year. The y axis (number of immigrants) is type 'integer', so we can just specify the value y = 6000.\n",
    "```\n",
    "\n",
    "```python\n",
    "    plt.text(2000, 6000, '2010 Earthquake') # years stored as type int\n",
    "```\n",
    "\n",
    "```\n",
    "If the years were stored as type 'string', we would need to specify x as the index position of the year. Eg 20th index is year 2000 since it is the 20th year with a base year of 1980.\n",
    "```\n",
    "\n",
    "```python\n",
    "    plt.text(20, 6000, '2010 Earthquake') # years stored as type int\n",
    "```\n",
    "\n",
    "```\n",
    "We will cover advanced annotation methods in later modules.\n",
    "```\n"
   ]
  },
  {
   "cell_type": "markdown",
   "metadata": {
    "button": false,
    "new_sheet": false,
    "run_control": {
     "read_only": false
    }
   },
   "source": [
    "We can easily add more countries to line plot to make meaningful comparisons immigration from different countries.\n",
    "\n",
    "**Question:** Let's compare the number of immigrants from India and China from 1980 to 2013.\n"
   ]
  },
  {
   "cell_type": "markdown",
   "metadata": {
    "button": false,
    "new_sheet": false,
    "run_control": {
     "read_only": false
    }
   },
   "source": [
    "Step 1: Get the data set for China and India, and display the dataframe.\n"
   ]
  },
  {
   "cell_type": "code",
   "execution_count": 44,
   "metadata": {
    "button": false,
    "new_sheet": false,
    "run_control": {
     "read_only": false
    },
    "scrolled": true
   },
   "outputs": [
    {
     "data": {
      "text/plain": "       1980  1981  1982  1983  1984  1985  1986   1987   1988   1989  ...  \\\nIndia  8880  8670  8147  7338  5704  4211  7150  10189  11522  10343  ...   \nChina  5123  6682  3308  1863  1527  1816  1960   2643   2758   4323  ...   \n\n        2004   2005   2006   2007   2008   2009   2010   2011   2012   2013  \nIndia  28235  36210  33848  28742  28261  29456  34235  27509  30933  33087  \nChina  36619  42584  33518  27642  30037  29622  30391  28502  33024  34129  \n\n[2 rows x 34 columns]",
      "text/html": "<div>\n<style scoped>\n    .dataframe tbody tr th:only-of-type {\n        vertical-align: middle;\n    }\n\n    .dataframe tbody tr th {\n        vertical-align: top;\n    }\n\n    .dataframe thead th {\n        text-align: right;\n    }\n</style>\n<table border=\"1\" class=\"dataframe\">\n  <thead>\n    <tr style=\"text-align: right;\">\n      <th></th>\n      <th>1980</th>\n      <th>1981</th>\n      <th>1982</th>\n      <th>1983</th>\n      <th>1984</th>\n      <th>1985</th>\n      <th>1986</th>\n      <th>1987</th>\n      <th>1988</th>\n      <th>1989</th>\n      <th>...</th>\n      <th>2004</th>\n      <th>2005</th>\n      <th>2006</th>\n      <th>2007</th>\n      <th>2008</th>\n      <th>2009</th>\n      <th>2010</th>\n      <th>2011</th>\n      <th>2012</th>\n      <th>2013</th>\n    </tr>\n  </thead>\n  <tbody>\n    <tr>\n      <th>India</th>\n      <td>8880</td>\n      <td>8670</td>\n      <td>8147</td>\n      <td>7338</td>\n      <td>5704</td>\n      <td>4211</td>\n      <td>7150</td>\n      <td>10189</td>\n      <td>11522</td>\n      <td>10343</td>\n      <td>...</td>\n      <td>28235</td>\n      <td>36210</td>\n      <td>33848</td>\n      <td>28742</td>\n      <td>28261</td>\n      <td>29456</td>\n      <td>34235</td>\n      <td>27509</td>\n      <td>30933</td>\n      <td>33087</td>\n    </tr>\n    <tr>\n      <th>China</th>\n      <td>5123</td>\n      <td>6682</td>\n      <td>3308</td>\n      <td>1863</td>\n      <td>1527</td>\n      <td>1816</td>\n      <td>1960</td>\n      <td>2643</td>\n      <td>2758</td>\n      <td>4323</td>\n      <td>...</td>\n      <td>36619</td>\n      <td>42584</td>\n      <td>33518</td>\n      <td>27642</td>\n      <td>30037</td>\n      <td>29622</td>\n      <td>30391</td>\n      <td>28502</td>\n      <td>33024</td>\n      <td>34129</td>\n    </tr>\n  </tbody>\n</table>\n<p>2 rows × 34 columns</p>\n</div>"
     },
     "execution_count": 44,
     "metadata": {},
     "output_type": "execute_result"
    }
   ],
   "source": [
    "### type your answer here\n",
    "# df_CI = ...\n",
    "# df_CI\n",
    "df_CI = df_can.loc[['India', 'China'], years]\n",
    "df_CI"
   ]
  },
  {
   "cell_type": "markdown",
   "metadata": {
    "button": false,
    "new_sheet": false,
    "run_control": {
     "read_only": false
    }
   },
   "source": [
    "<details><summary>Click here for a sample python solution</summary>\n",
    "\n",
    "```python\n",
    "    #The correct answer is:\n",
    "    df_CI = df_can.loc[['India', 'China'], years]\n",
    "    df_CI\n",
    "```\n",
    "\n",
    "</details>\n"
   ]
  },
  {
   "cell_type": "markdown",
   "metadata": {
    "button": false,
    "new_sheet": false,
    "run_control": {
     "read_only": false
    }
   },
   "source": [
    "Step 2: Plot graph. We will explicitly specify line plot by passing in `kind` parameter to `plot()`.\n"
   ]
  },
  {
   "cell_type": "code",
   "execution_count": 45,
   "metadata": {
    "button": false,
    "new_sheet": false,
    "run_control": {
     "read_only": false
    },
    "scrolled": true
   },
   "outputs": [
    {
     "data": {
      "text/plain": "<AxesSubplot:>"
     },
     "execution_count": 45,
     "metadata": {},
     "output_type": "execute_result"
    },
    {
     "data": {
      "text/plain": "<Figure size 432x288 with 1 Axes>",
      "image/png": "[encoded data removed]"
     },
     "metadata": {},
     "output_type": "display_data"
    }
   ],
   "source": [
    "### type your answer here\n",
    "# df_CI. ...\n",
    "df_CI.plot(kind='line')"
   ]
  },
  {
   "cell_type": "markdown",
   "metadata": {
    "button": false,
    "new_sheet": false,
    "run_control": {
     "read_only": false
    }
   },
   "source": [
    "<details><summary>Click here for a sample python solution</summary>\n",
    "\n",
    "```python\n",
    "    #The correct answer is:\n",
    "    df_CI.plot(kind='line')\n",
    "```\n",
    "\n",
    "</details>\n"
   ]
  },
  {
   "cell_type": "markdown",
   "metadata": {
    "button": false,
    "new_sheet": false,
    "run_control": {
     "read_only": false
    }
   },
   "source": [
    "That doesn't look right...\n",
    "\n",
    "Recall that *pandas* plots the indices on the x-axis and the columns as individual lines on the y-axis. Since `df_CI` is a dataframe with the `country` as the index and `years` as the columns, we must first transpose the dataframe using `transpose()` method to swap the row and columns.\n"
   ]
  },
  {
   "cell_type": "code",
   "execution_count": 46,
   "metadata": {
    "button": false,
    "new_sheet": false,
    "run_control": {
     "read_only": false
    }
   },
   "outputs": [
    {
     "data": {
      "text/plain": "      India  China\n1980   8880   5123\n1981   8670   6682\n1982   8147   3308\n1983   7338   1863\n1984   5704   1527",
      "text/html": "<div>\n<style scoped>\n    .dataframe tbody tr th:only-of-type {\n        vertical-align: middle;\n    }\n\n    .dataframe tbody tr th {\n        vertical-align: top;\n    }\n\n    .dataframe thead th {\n        text-align: right;\n    }\n</style>\n<table border=\"1\" class=\"dataframe\">\n  <thead>\n    <tr style=\"text-align: right;\">\n      <th></th>\n      <th>India</th>\n      <th>China</th>\n    </tr>\n  </thead>\n  <tbody>\n    <tr>\n      <th>1980</th>\n      <td>8880</td>\n      <td>5123</td>\n    </tr>\n    <tr>\n      <th>1981</th>\n      <td>8670</td>\n      <td>6682</td>\n    </tr>\n    <tr>\n      <th>1982</th>\n      <td>8147</td>\n      <td>3308</td>\n    </tr>\n    <tr>\n      <th>1983</th>\n      <td>7338</td>\n      <td>1863</td>\n    </tr>\n    <tr>\n      <th>1984</th>\n      <td>5704</td>\n      <td>1527</td>\n    </tr>\n  </tbody>\n</table>\n</div>"
     },
     "execution_count": 46,
     "metadata": {},
     "output_type": "execute_result"
    }
   ],
   "source": [
    "df_CI = df_CI.transpose()\n",
    "df_CI.head()"
   ]
  },
  {
   "cell_type": "markdown",
   "metadata": {
    "button": false,
    "new_sheet": false,
    "run_control": {
     "read_only": false
    }
   },
   "source": [
    "*pandas* will auomatically graph the two countries on the same graph. Go ahead and plot the new transposed dataframe. Make sure to add a title to the plot and label the axes.\n"
   ]
  },
  {
   "cell_type": "code",
   "execution_count": 48,
   "metadata": {
    "button": false,
    "new_sheet": false,
    "run_control": {
     "read_only": false
    }
   },
   "outputs": [
    {
     "data": {
      "text/plain": "<Figure size 432x288 with 1 Axes>",
      "image/png": "[encoded data removed]"
     },
     "metadata": {},
     "output_type": "display_data"
    }
   ],
   "source": [
    "### type your answer here\n",
    "df_CI.index = df_CI.index.map(int)\n",
    "df_CI.plot(kind='line')\n",
    "\n",
    "plt.title('Immigrants from China and India')\n",
    "plt.xlabel('Number of Immigrants')\n",
    "plt.ylabel('Years')\n",
    "\n",
    "plt.show()"
   ]
  },
  {
   "cell_type": "markdown",
   "metadata": {
    "button": false,
    "new_sheet": false,
    "run_control": {
     "read_only": false
    }
   },
   "source": [
    "<details><summary>Click here for a sample python solution</summary>\n",
    "\n",
    "```python\n",
    "    #The correct answer is:\n",
    "    df_CI.index = df_CI.index.map(int) # let's change the index values of df_CI to type integer for plotting\n",
    "    df_CI.plot(kind='line')\n",
    "\n",
    "    plt.title('Immigrants from China and India')\n",
    "    plt.ylabel('Number of Immigrants')\n",
    "    plt.xlabel('Years')\n",
    "\n",
    "    plt.show()\n",
    "```\n",
    "\n",
    "</details>\n"
   ]
  },
  {
   "cell_type": "markdown",
   "metadata": {
    "button": false,
    "new_sheet": false,
    "run_control": {
     "read_only": false
    }
   },
   "source": [
    "<br>From the above plot, we can observe that the China and India have very similar immigration trends through the years.\n"
   ]
  },
  {
   "cell_type": "markdown",
   "metadata": {
    "button": false,
    "new_sheet": false,
    "run_control": {
     "read_only": false
    }
   },
   "source": [
    "*Note*: How come we didn't need to transpose Haiti's dataframe before plotting (like we did for df_CI)?\n",
    "\n",
    "That's because `haiti` is a series as opposed to a dataframe, and has the years as its indices as shown below.\n",
    "\n",
    "```python\n",
    "print(type(haiti))\n",
    "print(haiti.head(5))\n",
    "```\n",
    "\n",
    "> class 'pandas.core.series.Series' <br>\n",
    "> 1980    1666 <br>\n",
    "> 1981    3692 <br>\n",
    "> 1982    3498 <br>\n",
    "> 1983    2860 <br>\n",
    "> 1984    1418 <br>\n",
    "> Name: Haiti, dtype: int64 <br>\n"
   ]
  },
  {
   "cell_type": "markdown",
   "metadata": {
    "button": false,
    "new_sheet": false,
    "run_control": {
     "read_only": false
    }
   },
   "source": [
    "Line plot is a handy tool to display several dependent variables against one independent variable. However, it is recommended that no more than 5-10 lines on a single graph; any more than that and it becomes difficult to interpret.\n"
   ]
  },
  {
   "cell_type": "markdown",
   "metadata": {
    "button": false,
    "new_sheet": false,
    "run_control": {
     "read_only": false
    }
   },
   "source": [
    "**Question:** Compare the trend of top 5 countries that contributed the most to immigration to Canada.\n"
   ]
  },
  {
   "cell_type": "code",
   "execution_count": 49,
   "outputs": [
    {
     "data": {
      "text/plain": "               Continent           Region             DevName  1980  1981  \\\nAfghanistan         Asia    Southern Asia  Developing regions    16    39   \nAlbania           Europe  Southern Europe   Developed regions     1     0   \nAlgeria           Africa  Northern Africa  Developing regions    80    67   \nAmerican Samoa   Oceania        Polynesia  Developing regions     0     1   \nAndorra           Europe  Southern Europe   Developed regions     0     0   \n\n                1982  1983  1984  1985  1986  ...  2013  Unnamed: 43  \\\nAfghanistan       39    47    71   340   496  ...  2004          NaN   \nAlbania            0     0     0     0     1  ...   603          NaN   \nAlgeria           71    69    63    44    69  ...  4331          NaN   \nAmerican Samoa     0     0     0     0     0  ...     0          NaN   \nAndorra            0     0     0     0     2  ...     1          NaN   \n\n                Unnamed: 44  Unnamed: 45  Unnamed: 46  Unnamed: 47  \\\nAfghanistan             NaN          NaN          NaN          NaN   \nAlbania                 NaN          NaN          NaN          NaN   \nAlgeria                 NaN          NaN          NaN          NaN   \nAmerican Samoa          NaN          NaN          NaN          NaN   \nAndorra                 NaN          NaN          NaN          NaN   \n\n                Unnamed: 48  Unnamed: 49  Unnamed: 50    Total  \nAfghanistan             NaN          NaN          NaN  58639.0  \nAlbania                 NaN          NaN          NaN  15699.0  \nAlgeria                 NaN          NaN          NaN  69439.0  \nAmerican Samoa          NaN          NaN          NaN      6.0  \nAndorra                 NaN          NaN          NaN     15.0  \n\n[5 rows x 46 columns]",
      "text/html": "<div>\n<style scoped>\n    .dataframe tbody tr th:only-of-type {\n        vertical-align: middle;\n    }\n\n    .dataframe tbody tr th {\n        vertical-align: top;\n    }\n\n    .dataframe thead th {\n        text-align: right;\n    }\n</style>\n<table border=\"1\" class=\"dataframe\">\n  <thead>\n    <tr style=\"text-align: right;\">\n      <th></th>\n      <th>Continent</th>\n      <th>Region</th>\n      <th>DevName</th>\n      <th>1980</th>\n      <th>1981</th>\n      <th>1982</th>\n      <th>1983</th>\n      <th>1984</th>\n      <th>1985</th>\n      <th>1986</th>\n      <th>...</th>\n      <th>2013</th>\n      <th>Unnamed: 43</th>\n      <th>Unnamed: 44</th>\n      <th>Unnamed: 45</th>\n      <th>Unnamed: 46</th>\n      <th>Unnamed: 47</th>\n      <th>Unnamed: 48</th>\n      <th>Unnamed: 49</th>\n      <th>Unnamed: 50</th>\n      <th>Total</th>\n    </tr>\n  </thead>\n  <tbody>\n    <tr>\n      <th>Afghanistan</th>\n      <td>Asia</td>\n      <td>Southern Asia</td>\n      <td>Developing regions</td>\n      <td>16</td>\n      <td>39</td>\n      <td>39</td>\n      <td>47</td>\n      <td>71</td>\n      <td>340</td>\n      <td>496</td>\n      <td>...</td>\n      <td>2004</td>\n      <td>NaN</td>\n      <td>NaN</td>\n      <td>NaN</td>\n      <td>NaN</td>\n      <td>NaN</td>\n      <td>NaN</td>\n      <td>NaN</td>\n      <td>NaN</td>\n      <td>58639.0</td>\n    </tr>\n    <tr>\n      <th>Albania</th>\n      <td>Europe</td>\n      <td>Southern Europe</td>\n      <td>Developed regions</td>\n      <td>1</td>\n      <td>0</td>\n      <td>0</td>\n      <td>0</td>\n      <td>0</td>\n      <td>0</td>\n      <td>1</td>\n      <td>...</td>\n      <td>603</td>\n      <td>NaN</td>\n      <td>NaN</td>\n      <td>NaN</td>\n      <td>NaN</td>\n      <td>NaN</td>\n      <td>NaN</td>\n      <td>NaN</td>\n      <td>NaN</td>\n      <td>15699.0</td>\n    </tr>\n    <tr>\n      <th>Algeria</th>\n      <td>Africa</td>\n      <td>Northern Africa</td>\n      <td>Developing regions</td>\n      <td>80</td>\n      <td>67</td>\n      <td>71</td>\n      <td>69</td>\n      <td>63</td>\n      <td>44</td>\n      <td>69</td>\n      <td>...</td>\n      <td>4331</td>\n      <td>NaN</td>\n      <td>NaN</td>\n      <td>NaN</td>\n      <td>NaN</td>\n      <td>NaN</td>\n      <td>NaN</td>\n      <td>NaN</td>\n      <td>NaN</td>\n      <td>69439.0</td>\n    </tr>\n    <tr>\n      <th>American Samoa</th>\n      <td>Oceania</td>\n      <td>Polynesia</td>\n      <td>Developing regions</td>\n      <td>0</td>\n      <td>1</td>\n      <td>0</td>\n      <td>0</td>\n      <td>0</td>\n      <td>0</td>\n      <td>0</td>\n      <td>...</td>\n      <td>0</td>\n      <td>NaN</td>\n      <td>NaN</td>\n      <td>NaN</td>\n      <td>NaN</td>\n      <td>NaN</td>\n      <td>NaN</td>\n      <td>NaN</td>\n      <td>NaN</td>\n      <td>6.0</td>\n    </tr>\n    <tr>\n      <th>Andorra</th>\n      <td>Europe</td>\n      <td>Southern Europe</td>\n      <td>Developed regions</td>\n      <td>0</td>\n      <td>0</td>\n      <td>0</td>\n      <td>0</td>\n      <td>0</td>\n      <td>0</td>\n      <td>2</td>\n      <td>...</td>\n      <td>1</td>\n      <td>NaN</td>\n      <td>NaN</td>\n      <td>NaN</td>\n      <td>NaN</td>\n      <td>NaN</td>\n      <td>NaN</td>\n      <td>NaN</td>\n      <td>NaN</td>\n      <td>15.0</td>\n    </tr>\n  </tbody>\n</table>\n<p>5 rows × 46 columns</p>\n</div>"
     },
     "execution_count": 49,
     "metadata": {},
     "output_type": "execute_result"
    }
   ],
   "source": [
    "df_can.head()"
   ],
   "metadata": {
    "collapsed": false,
    "pycharm": {
     "name": "#%%\n"
    }
   }
  },
  {
   "cell_type": "code",
   "execution_count": 50,
   "outputs": [
    {
     "data": {
      "text/plain": "                                                   Continent  \\\nIndia                                                   Asia   \nChina                                                   Asia   \nUnited Kingdom of Great Britain and Northern Ir...    Europe   \nPhilippines                                             Asia   \nPakistan                                                Asia   \n\n                                                                Region  \\\nIndia                                                    Southern Asia   \nChina                                                     Eastern Asia   \nUnited Kingdom of Great Britain and Northern Ir...     Northern Europe   \nPhilippines                                         South-Eastern Asia   \nPakistan                                                 Southern Asia   \n\n                                                               DevName   1980  \\\nIndia                                               Developing regions   8880   \nChina                                               Developing regions   5123   \nUnited Kingdom of Great Britain and Northern Ir...   Developed regions  22045   \nPhilippines                                         Developing regions   6051   \nPakistan                                            Developing regions    978   \n\n                                                     1981   1982   1983  \\\nIndia                                                8670   8147   7338   \nChina                                                6682   3308   1863   \nUnited Kingdom of Great Britain and Northern Ir...  24796  20620  10015   \nPhilippines                                          5921   5249   4562   \nPakistan                                              972   1201    900   \n\n                                                     1984  1985  1986  ...  \\\nIndia                                                5704  4211  7150  ...   \nChina                                                1527  1816  1960  ...   \nUnited Kingdom of Great Britain and Northern Ir...  10170  9564  9470  ...   \nPhilippines                                          3801  3150  4166  ...   \nPakistan                                              668   514   691  ...   \n\n                                                     2013  Unnamed: 43  \\\nIndia                                               33087          NaN   \nChina                                               34129          NaN   \nUnited Kingdom of Great Britain and Northern Ir...   5827          NaN   \nPhilippines                                         29544          NaN   \nPakistan                                            12603          NaN   \n\n                                                    Unnamed: 44  Unnamed: 45  \\\nIndia                                                       NaN          NaN   \nChina                                                       NaN          NaN   \nUnited Kingdom of Great Britain and Northern Ir...          NaN          NaN   \nPhilippines                                                 NaN          NaN   \nPakistan                                                    NaN          NaN   \n\n                                                    Unnamed: 46  Unnamed: 47  \\\nIndia                                                       NaN          NaN   \nChina                                                       NaN          NaN   \nUnited Kingdom of Great Britain and Northern Ir...          NaN          NaN   \nPhilippines                                                 NaN          NaN   \nPakistan                                                    NaN          NaN   \n\n                                                    Unnamed: 48  Unnamed: 49  \\\nIndia                                                       NaN          NaN   \nChina                                                       NaN          NaN   \nUnited Kingdom of Great Britain and Northern Ir...          NaN          NaN   \nPhilippines                                                 NaN          NaN   \nPakistan                                                    NaN          NaN   \n\n                                                    Unnamed: 50     Total  \nIndia                                                       NaN  691904.0  \nChina                                                       NaN  659962.0  \nUnited Kingdom of Great Britain and Northern Ir...          NaN  551500.0  \nPhilippines                                                 NaN  511391.0  \nPakistan                                                    NaN  241600.0  \n\n[5 rows x 46 columns]",
      "text/html": "<div>\n<style scoped>\n    .dataframe tbody tr th:only-of-type {\n        vertical-align: middle;\n    }\n\n    .dataframe tbody tr th {\n        vertical-align: top;\n    }\n\n    .dataframe thead th {\n        text-align: right;\n    }\n</style>\n<table border=\"1\" class=\"dataframe\">\n  <thead>\n    <tr style=\"text-align: right;\">\n      <th></th>\n      <th>Continent</th>\n      <th>Region</th>\n      <th>DevName</th>\n      <th>1980</th>\n      <th>1981</th>\n      <th>1982</th>\n      <th>1983</th>\n      <th>1984</th>\n      <th>1985</th>\n      <th>1986</th>\n      <th>...</th>\n      <th>2013</th>\n      <th>Unnamed: 43</th>\n      <th>Unnamed: 44</th>\n      <th>Unnamed: 45</th>\n      <th>Unnamed: 46</th>\n      <th>Unnamed: 47</th>\n      <th>Unnamed: 48</th>\n      <th>Unnamed: 49</th>\n      <th>Unnamed: 50</th>\n      <th>Total</th>\n    </tr>\n  </thead>\n  <tbody>\n    <tr>\n      <th>India</th>\n      <td>Asia</td>\n      <td>Southern Asia</td>\n      <td>Developing regions</td>\n      <td>8880</td>\n      <td>8670</td>\n      <td>8147</td>\n      <td>7338</td>\n      <td>5704</td>\n      <td>4211</td>\n      <td>7150</td>\n      <td>...</td>\n      <td>33087</td>\n      <td>NaN</td>\n      <td>NaN</td>\n      <td>NaN</td>\n      <td>NaN</td>\n      <td>NaN</td>\n      <td>NaN</td>\n      <td>NaN</td>\n      <td>NaN</td>\n      <td>691904.0</td>\n    </tr>\n    <tr>\n      <th>China</th>\n      <td>Asia</td>\n      <td>Eastern Asia</td>\n      <td>Developing regions</td>\n      <td>5123</td>\n      <td>6682</td>\n      <td>3308</td>\n      <td>1863</td>\n      <td>1527</td>\n      <td>1816</td>\n      <td>1960</td>\n      <td>...</td>\n      <td>34129</td>\n      <td>NaN</td>\n      <td>NaN</td>\n      <td>NaN</td>\n      <td>NaN</td>\n      <td>NaN</td>\n      <td>NaN</td>\n      <td>NaN</td>\n      <td>NaN</td>\n      <td>659962.0</td>\n    </tr>\n    <tr>\n      <th>United Kingdom of Great Britain and Northern Ireland</th>\n      <td>Europe</td>\n      <td>Northern Europe</td>\n      <td>Developed regions</td>\n      <td>22045</td>\n      <td>24796</td>\n      <td>20620</td>\n      <td>10015</td>\n      <td>10170</td>\n      <td>9564</td>\n      <td>9470</td>\n      <td>...</td>\n      <td>5827</td>\n      <td>NaN</td>\n      <td>NaN</td>\n      <td>NaN</td>\n      <td>NaN</td>\n      <td>NaN</td>\n      <td>NaN</td>\n      <td>NaN</td>\n      <td>NaN</td>\n      <td>551500.0</td>\n    </tr>\n    <tr>\n      <th>Philippines</th>\n      <td>Asia</td>\n      <td>South-Eastern Asia</td>\n      <td>Developing regions</td>\n      <td>6051</td>\n      <td>5921</td>\n      <td>5249</td>\n      <td>4562</td>\n      <td>3801</td>\n      <td>3150</td>\n      <td>4166</td>\n      <td>...</td>\n      <td>29544</td>\n      <td>NaN</td>\n      <td>NaN</td>\n      <td>NaN</td>\n      <td>NaN</td>\n      <td>NaN</td>\n      <td>NaN</td>\n      <td>NaN</td>\n      <td>NaN</td>\n      <td>511391.0</td>\n    </tr>\n    <tr>\n      <th>Pakistan</th>\n      <td>Asia</td>\n      <td>Southern Asia</td>\n      <td>Developing regions</td>\n      <td>978</td>\n      <td>972</td>\n      <td>1201</td>\n      <td>900</td>\n      <td>668</td>\n      <td>514</td>\n      <td>691</td>\n      <td>...</td>\n      <td>12603</td>\n      <td>NaN</td>\n      <td>NaN</td>\n      <td>NaN</td>\n      <td>NaN</td>\n      <td>NaN</td>\n      <td>NaN</td>\n      <td>NaN</td>\n      <td>NaN</td>\n      <td>241600.0</td>\n    </tr>\n  </tbody>\n</table>\n<p>5 rows × 46 columns</p>\n</div>"
     },
     "execution_count": 50,
     "metadata": {},
     "output_type": "execute_result"
    }
   ],
   "source": [
    "### type your answer here\n",
    "df_can.sort_values(by='Total', ascending=False, axis=0, inplace=True)\n",
    "df_top5 = df_can.head(5)\n",
    "df_top5"
   ],
   "metadata": {
    "collapsed": false,
    "pycharm": {
     "name": "#%%\n"
    }
   }
  },
  {
   "cell_type": "code",
   "execution_count": 51,
   "outputs": [
    {
     "name": "stdout",
     "output_type": "stream",
     "text": [
      "      India  China  United Kingdom of Great Britain and Northern Ireland  \\\n",
      "1980   8880   5123                                              22045      \n",
      "1981   8670   6682                                              24796      \n",
      "1982   8147   3308                                              20620      \n",
      "1983   7338   1863                                              10015      \n",
      "1984   5704   1527                                              10170      \n",
      "1985   4211   1816                                               9564      \n",
      "1986   7150   1960                                               9470      \n",
      "1987  10189   2643                                              21337      \n",
      "1988  11522   2758                                              27359      \n",
      "1989  10343   4323                                              23795      \n",
      "1990  12041   8076                                              31668      \n",
      "1991  13734  14255                                              23380      \n",
      "1992  13673  10846                                              34123      \n",
      "1993  21496   9817                                              33720      \n",
      "1994  18620  13128                                              39231      \n",
      "1995  18489  14398                                              30145      \n",
      "1996  23859  19415                                              29322      \n",
      "1997  22268  20475                                              22965      \n",
      "1998  17241  21049                                              10367      \n",
      "1999  18974  30069                                               7045      \n",
      "2000  28572  35529                                               8840      \n",
      "2001  31223  36434                                              11728      \n",
      "2002  31889  31961                                               8046      \n",
      "2003  27155  36439                                               6797      \n",
      "2004  28235  36619                                               7533      \n",
      "2005  36210  42584                                               7258      \n",
      "2006  33848  33518                                               7140      \n",
      "2007  28742  27642                                               8216      \n",
      "2008  28261  30037                                               8979      \n",
      "2009  29456  29622                                               8876      \n",
      "2010  34235  30391                                               8724      \n",
      "2011  27509  28502                                               6204      \n",
      "2012  30933  33024                                               6195      \n",
      "2013  33087  34129                                               5827      \n",
      "\n",
      "      Philippines  Pakistan  \n",
      "1980         6051       978  \n",
      "1981         5921       972  \n",
      "1982         5249      1201  \n",
      "1983         4562       900  \n",
      "1984         3801       668  \n",
      "1985         3150       514  \n",
      "1986         4166       691  \n",
      "1987         7360      1072  \n",
      "1988         8639      1334  \n",
      "1989        11865      2261  \n",
      "1990        12509      2470  \n",
      "1991        12718      3079  \n",
      "1992        13670      4071  \n",
      "1993        20479      4777  \n",
      "1994        19532      4666  \n",
      "1995        15864      4994  \n",
      "1996        13692      9125  \n",
      "1997        11549     13073  \n",
      "1998         8735      9068  \n",
      "1999         9734      9979  \n",
      "2000        10763     15400  \n",
      "2001        13836     16708  \n",
      "2002        11707     15110  \n",
      "2003        12758     13205  \n",
      "2004        14004     13399  \n",
      "2005        18139     14314  \n",
      "2006        18400     13127  \n",
      "2007        19837     10124  \n",
      "2008        24887      8994  \n",
      "2009        28573      7217  \n",
      "2010        38617      6811  \n",
      "2011        36765      7468  \n",
      "2012        34315     11227  \n",
      "2013        29544     12603  \n"
     ]
    }
   ],
   "source": [
    "df_top5 = df_top5[years].transpose()\n",
    "print(df_top5)"
   ],
   "metadata": {
    "collapsed": false,
    "pycharm": {
     "name": "#%%\n"
    }
   }
  },
  {
   "cell_type": "code",
   "execution_count": 52,
   "outputs": [
    {
     "data": {
      "text/plain": "<Figure size 1008x576 with 1 Axes>",
      "image/png": "[encoded data removed]"
     },
     "metadata": {},
     "output_type": "display_data"
    }
   ],
   "source": [
    "df_top5.index = df_top5.index.map(int)\n",
    "df_top5.plot(kind='line', figsize=(14, 8))\n",
    "plt.title('Immigration Trend of Top 5 Countries')\n",
    "plt.ylabel('Number og Immigrations')\n",
    "plt.xlabel('Years')\n",
    "plt.show()"
   ],
   "metadata": {
    "collapsed": false,
    "pycharm": {
     "name": "#%%\n"
    }
   }
  },
  {
   "cell_type": "markdown",
   "metadata": {
    "button": false,
    "new_sheet": false,
    "run_control": {
     "read_only": false
    }
   },
   "source": [
    "<details><summary>Click here for a sample python solution</summary>\n",
    "\n",
    "```python\n",
    "    #The correct answer is:    \n",
    "    #Step 1: Get the dataset. Recall that we created a Total column that calculates cumulative immigration by country. \n",
    "    #We will sort on this column to get our top 5 countries using pandas sort_values() method.\n",
    "    \n",
    "    inplace = True # paramemter saves the changes to the original df_can dataframe\n",
    "    df_can.sort_values(by='Total', ascending=False, axis=0, inplace=True)\n",
    "\n",
    "    # get the top 5 entries\n",
    "    df_top5 = df_can.head(5)\n",
    "\n",
    "    # transpose the dataframe\n",
    "    df_top5 = df_top5[years].transpose() \n",
    "\n",
    "    print(df_top5)\n",
    "\n",
    "\n",
    "    #Step 2: Plot the dataframe. To make the plot more readeable, we will change the size using the `figsize` parameter.\n",
    "    df_top5.index = df_top5.index.map(int) # let's change the index values of df_top5 to type integer for plotting\n",
    "    df_top5.plot(kind='line', figsize=(14, 8)) # pass a tuple (x, y) size\n",
    "\n",
    "\n",
    "\n",
    "    plt.title('Immigration Trend of Top 5 Countries')\n",
    "    plt.ylabel('Number of Immigrants')\n",
    "    plt.xlabel('Years')\n",
    "\n",
    "\n",
    "    plt.show()\n",
    "\n",
    "```\n",
    "\n",
    "</details>\n"
   ]
  },
  {
   "cell_type": "markdown",
   "metadata": {
    "button": false,
    "new_sheet": false,
    "run_control": {
     "read_only": false
    }
   },
   "source": [
    "### Other Plots\n",
    "\n",
    "Congratulations! you have learned how to wrangle data with python and create a line plot with Matplotlib. There are many other plotting styles available other than the default Line plot, all of which can be accessed by passing `kind` keyword to `plot()`. The full list of available plots are as follows:\n",
    "\n",
    "*   `bar` for vertical bar plots\n",
    "*   `barh` for horizontal bar plots\n",
    "*   `hist` for histogram\n",
    "*   `box` for boxplot\n",
    "*   `kde` or `density` for density plots\n",
    "*   `area` for area plots\n",
    "*   `pie` for pie plots\n",
    "*   `scatter` for scatter plots\n",
    "*   `hexbin` for hexbin plot\n"
   ]
  },
  {
   "cell_type": "markdown",
   "metadata": {
    "button": false,
    "new_sheet": false,
    "run_control": {
     "read_only": false
    }
   },
   "source": [
    "### Thank you for completing this lab!\n",
    "\n",
    "## Author\n",
    "\n",
    "<a href=\"https://www.linkedin.com/in/aklson/?utm_medium=Exinfluencer&utm_source=Exinfluencer&utm_content=000026UJ&utm_term=10006555&utm_id=NA-SkillsNetwork-Channel-SkillsNetworkCoursesIBMDeveloperSkillsNetworkDV0101ENSkillsNetwork20297740-2021-01-01\" target=\"_blank\">Alex Aklson</a>\n",
    "\n",
    "### Other Contributors\n",
    "\n",
    "[Jay Rajasekharan](https://www.linkedin.com/in/jayrajasekharan?utm_medium=Exinfluencer&utm_source=Exinfluencer&utm_content=000026UJ&utm_term=10006555&utm_id=NA-SkillsNetwork-Channel-SkillsNetworkCoursesIBMDeveloperSkillsNetworkDV0101ENSkillsNetwork20297740-2021-01-01),\n",
    "[Ehsan M. Kermani](https://www.linkedin.com/in/ehsanmkermani?utm_medium=Exinfluencer&utm_source=Exinfluencer&utm_content=000026UJ&utm_term=10006555&utm_id=NA-SkillsNetwork-Channel-SkillsNetworkCoursesIBMDeveloperSkillsNetworkDV0101ENSkillsNetwork20297740-2021-01-01),\n",
    "[Slobodan Markovic](https://www.linkedin.com/in/slobodan-markovic?utm_medium=Exinfluencer&utm_source=Exinfluencer&utm_content=000026UJ&utm_term=10006555&utm_id=NA-SkillsNetwork-Channel-SkillsNetworkCoursesIBMDeveloperSkillsNetworkDV0101ENSkillsNetwork20297740-2021-01-01),\n",
    "[Weiqing Wang](https://www.linkedin.com/in/weiqing-wang-641640133/?utm_medium=Exinfluencer&utm_source=Exinfluencer&utm_content=000026UJ&utm_term=10006555&utm_id=NA-SkillsNetwork-Channel-SkillsNetworkCoursesIBMDeveloperSkillsNetworkDV0101ENSkillsNetwork20297740-2021-01-01)\n",
    "\n",
    "## Change Log\n",
    "\n",
    "| Date (YYYY-MM-DD) | Version | Changed By    | Change Description                 |\n",
    "| ----------------- | ------- | ------------- | ---------------------------------- |\n",
    "| 2021-05-29        | 2.4     | Weiqing Wang  | Fixed typos and code smells.       |\n",
    "| 2021-01-20        | 2.3     | Lakshmi Holla | Changed TOC cell markdown          |\n",
    "| 2020-11-20        | 2.2     | Lakshmi Holla | Changed IBM box URL                |\n",
    "| 2020-11-03        | 2.1     | Lakshmi Holla | Changed URL and info method        |\n",
    "| 2020-08-27        | 2.0     | Lavanya       | Moved Lab to course repo in GitLab |\n",
    "\n",
    "## <h3 align=\"center\"> © IBM Corporation 2020. All rights reserved. <h3/>"
   ]
  },
  {
   "cell_type": "code",
   "execution_count": null,
   "outputs": [],
   "source": [],
   "metadata": {
    "collapsed": false,
    "pycharm": {
     "name": "#%%\n"
    }
   }
  }
 ],
 "metadata": {
  "kernelspec": {
   "display_name": "Python 3",
   "language": "python",
   "name": "python3"
  },
  "language_info": {
   "codemirror_mode": {
    "name": "ipython",
    "version": 3
   },
   "file_extension": ".py",
   "mimetype": "text/x-python",
   "name": "python",
   "nbconvert_exporter": "python",
   "pygments_lexer": "ipython3",
   "version": "3.7.6"
  },
  "widgets": {
   "state": {},
   "version": "1.1.2"
  }
 },
 "nbformat": 4,
 "nbformat_minor": 2
}